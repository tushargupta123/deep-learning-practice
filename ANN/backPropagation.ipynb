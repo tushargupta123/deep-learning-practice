{
 "cells": [
  {
   "cell_type": "markdown",
   "metadata": {},
   "source": [
    "# CREDIT CARD CHURNING MODEL"
   ]
  },
  {
   "cell_type": "code",
   "execution_count": 1,
   "metadata": {},
   "outputs": [],
   "source": [
    "import numpy as np\n",
    "import pandas as pd"
   ]
  },
  {
   "cell_type": "code",
   "execution_count": 2,
   "metadata": {},
   "outputs": [],
   "source": [
    "df = pd.read_csv('Churn_Modelling.csv')"
   ]
  },
  {
   "cell_type": "code",
   "execution_count": 3,
   "metadata": {},
   "outputs": [
    {
     "data": {
      "text/html": [
       "<div>\n",
       "<style scoped>\n",
       "    .dataframe tbody tr th:only-of-type {\n",
       "        vertical-align: middle;\n",
       "    }\n",
       "\n",
       "    .dataframe tbody tr th {\n",
       "        vertical-align: top;\n",
       "    }\n",
       "\n",
       "    .dataframe thead th {\n",
       "        text-align: right;\n",
       "    }\n",
       "</style>\n",
       "<table border=\"1\" class=\"dataframe\">\n",
       "  <thead>\n",
       "    <tr style=\"text-align: right;\">\n",
       "      <th></th>\n",
       "      <th>RowNumber</th>\n",
       "      <th>CustomerId</th>\n",
       "      <th>Surname</th>\n",
       "      <th>CreditScore</th>\n",
       "      <th>Geography</th>\n",
       "      <th>Gender</th>\n",
       "      <th>Age</th>\n",
       "      <th>Tenure</th>\n",
       "      <th>Balance</th>\n",
       "      <th>NumOfProducts</th>\n",
       "      <th>HasCrCard</th>\n",
       "      <th>IsActiveMember</th>\n",
       "      <th>EstimatedSalary</th>\n",
       "      <th>Exited</th>\n",
       "    </tr>\n",
       "  </thead>\n",
       "  <tbody>\n",
       "    <tr>\n",
       "      <th>0</th>\n",
       "      <td>1</td>\n",
       "      <td>15634602</td>\n",
       "      <td>Hargrave</td>\n",
       "      <td>619</td>\n",
       "      <td>France</td>\n",
       "      <td>Female</td>\n",
       "      <td>42</td>\n",
       "      <td>2</td>\n",
       "      <td>0.00</td>\n",
       "      <td>1</td>\n",
       "      <td>1</td>\n",
       "      <td>1</td>\n",
       "      <td>101348.88</td>\n",
       "      <td>1</td>\n",
       "    </tr>\n",
       "    <tr>\n",
       "      <th>1</th>\n",
       "      <td>2</td>\n",
       "      <td>15647311</td>\n",
       "      <td>Hill</td>\n",
       "      <td>608</td>\n",
       "      <td>Spain</td>\n",
       "      <td>Female</td>\n",
       "      <td>41</td>\n",
       "      <td>1</td>\n",
       "      <td>83807.86</td>\n",
       "      <td>1</td>\n",
       "      <td>0</td>\n",
       "      <td>1</td>\n",
       "      <td>112542.58</td>\n",
       "      <td>0</td>\n",
       "    </tr>\n",
       "    <tr>\n",
       "      <th>2</th>\n",
       "      <td>3</td>\n",
       "      <td>15619304</td>\n",
       "      <td>Onio</td>\n",
       "      <td>502</td>\n",
       "      <td>France</td>\n",
       "      <td>Female</td>\n",
       "      <td>42</td>\n",
       "      <td>8</td>\n",
       "      <td>159660.80</td>\n",
       "      <td>3</td>\n",
       "      <td>1</td>\n",
       "      <td>0</td>\n",
       "      <td>113931.57</td>\n",
       "      <td>1</td>\n",
       "    </tr>\n",
       "    <tr>\n",
       "      <th>3</th>\n",
       "      <td>4</td>\n",
       "      <td>15701354</td>\n",
       "      <td>Boni</td>\n",
       "      <td>699</td>\n",
       "      <td>France</td>\n",
       "      <td>Female</td>\n",
       "      <td>39</td>\n",
       "      <td>1</td>\n",
       "      <td>0.00</td>\n",
       "      <td>2</td>\n",
       "      <td>0</td>\n",
       "      <td>0</td>\n",
       "      <td>93826.63</td>\n",
       "      <td>0</td>\n",
       "    </tr>\n",
       "    <tr>\n",
       "      <th>4</th>\n",
       "      <td>5</td>\n",
       "      <td>15737888</td>\n",
       "      <td>Mitchell</td>\n",
       "      <td>850</td>\n",
       "      <td>Spain</td>\n",
       "      <td>Female</td>\n",
       "      <td>43</td>\n",
       "      <td>2</td>\n",
       "      <td>125510.82</td>\n",
       "      <td>1</td>\n",
       "      <td>1</td>\n",
       "      <td>1</td>\n",
       "      <td>79084.10</td>\n",
       "      <td>0</td>\n",
       "    </tr>\n",
       "  </tbody>\n",
       "</table>\n",
       "</div>"
      ],
      "text/plain": [
       "   RowNumber  CustomerId   Surname  CreditScore Geography  Gender  Age  \\\n",
       "0          1    15634602  Hargrave          619    France  Female   42   \n",
       "1          2    15647311      Hill          608     Spain  Female   41   \n",
       "2          3    15619304      Onio          502    France  Female   42   \n",
       "3          4    15701354      Boni          699    France  Female   39   \n",
       "4          5    15737888  Mitchell          850     Spain  Female   43   \n",
       "\n",
       "   Tenure    Balance  NumOfProducts  HasCrCard  IsActiveMember  \\\n",
       "0       2       0.00              1          1               1   \n",
       "1       1   83807.86              1          0               1   \n",
       "2       8  159660.80              3          1               0   \n",
       "3       1       0.00              2          0               0   \n",
       "4       2  125510.82              1          1               1   \n",
       "\n",
       "   EstimatedSalary  Exited  \n",
       "0        101348.88       1  \n",
       "1        112542.58       0  \n",
       "2        113931.57       1  \n",
       "3         93826.63       0  \n",
       "4         79084.10       0  "
      ]
     },
     "execution_count": 3,
     "metadata": {},
     "output_type": "execute_result"
    }
   ],
   "source": [
    "df.head()"
   ]
  },
  {
   "cell_type": "code",
   "execution_count": 4,
   "metadata": {},
   "outputs": [
    {
     "name": "stdout",
     "output_type": "stream",
     "text": [
      "<class 'pandas.core.frame.DataFrame'>\n",
      "RangeIndex: 10000 entries, 0 to 9999\n",
      "Data columns (total 14 columns):\n",
      " #   Column           Non-Null Count  Dtype  \n",
      "---  ------           --------------  -----  \n",
      " 0   RowNumber        10000 non-null  int64  \n",
      " 1   CustomerId       10000 non-null  int64  \n",
      " 2   Surname          10000 non-null  object \n",
      " 3   CreditScore      10000 non-null  int64  \n",
      " 4   Geography        10000 non-null  object \n",
      " 5   Gender           10000 non-null  object \n",
      " 6   Age              10000 non-null  int64  \n",
      " 7   Tenure           10000 non-null  int64  \n",
      " 8   Balance          10000 non-null  float64\n",
      " 9   NumOfProducts    10000 non-null  int64  \n",
      " 10  HasCrCard        10000 non-null  int64  \n",
      " 11  IsActiveMember   10000 non-null  int64  \n",
      " 12  EstimatedSalary  10000 non-null  float64\n",
      " 13  Exited           10000 non-null  int64  \n",
      "dtypes: float64(2), int64(9), object(3)\n",
      "memory usage: 1.1+ MB\n"
     ]
    }
   ],
   "source": [
    "df.info()"
   ]
  },
  {
   "cell_type": "code",
   "execution_count": 5,
   "metadata": {},
   "outputs": [
    {
     "data": {
      "text/plain": [
       "0"
      ]
     },
     "execution_count": 5,
     "metadata": {},
     "output_type": "execute_result"
    }
   ],
   "source": [
    "df.duplicated().sum()"
   ]
  },
  {
   "cell_type": "code",
   "execution_count": 6,
   "metadata": {},
   "outputs": [
    {
     "data": {
      "text/plain": [
       "Exited\n",
       "0    7963\n",
       "1    2037\n",
       "Name: count, dtype: int64"
      ]
     },
     "execution_count": 6,
     "metadata": {},
     "output_type": "execute_result"
    }
   ],
   "source": [
    "df['Exited'].value_counts()"
   ]
  },
  {
   "cell_type": "code",
   "execution_count": 7,
   "metadata": {},
   "outputs": [
    {
     "data": {
      "text/plain": [
       "Geography\n",
       "France     5014\n",
       "Germany    2509\n",
       "Spain      2477\n",
       "Name: count, dtype: int64"
      ]
     },
     "execution_count": 7,
     "metadata": {},
     "output_type": "execute_result"
    }
   ],
   "source": [
    "df['Geography'].value_counts()"
   ]
  },
  {
   "cell_type": "code",
   "execution_count": 8,
   "metadata": {},
   "outputs": [
    {
     "data": {
      "text/plain": [
       "Gender\n",
       "Male      5457\n",
       "Female    4543\n",
       "Name: count, dtype: int64"
      ]
     },
     "execution_count": 8,
     "metadata": {},
     "output_type": "execute_result"
    }
   ],
   "source": [
    "df['Gender'].value_counts()"
   ]
  },
  {
   "cell_type": "code",
   "execution_count": 9,
   "metadata": {},
   "outputs": [],
   "source": [
    "df.drop(columns=['RowNumber','CustomerId','Surname'],inplace=True)"
   ]
  },
  {
   "cell_type": "code",
   "execution_count": 10,
   "metadata": {},
   "outputs": [
    {
     "data": {
      "text/html": [
       "<div>\n",
       "<style scoped>\n",
       "    .dataframe tbody tr th:only-of-type {\n",
       "        vertical-align: middle;\n",
       "    }\n",
       "\n",
       "    .dataframe tbody tr th {\n",
       "        vertical-align: top;\n",
       "    }\n",
       "\n",
       "    .dataframe thead th {\n",
       "        text-align: right;\n",
       "    }\n",
       "</style>\n",
       "<table border=\"1\" class=\"dataframe\">\n",
       "  <thead>\n",
       "    <tr style=\"text-align: right;\">\n",
       "      <th></th>\n",
       "      <th>CreditScore</th>\n",
       "      <th>Geography</th>\n",
       "      <th>Gender</th>\n",
       "      <th>Age</th>\n",
       "      <th>Tenure</th>\n",
       "      <th>Balance</th>\n",
       "      <th>NumOfProducts</th>\n",
       "      <th>HasCrCard</th>\n",
       "      <th>IsActiveMember</th>\n",
       "      <th>EstimatedSalary</th>\n",
       "      <th>Exited</th>\n",
       "    </tr>\n",
       "  </thead>\n",
       "  <tbody>\n",
       "    <tr>\n",
       "      <th>0</th>\n",
       "      <td>619</td>\n",
       "      <td>France</td>\n",
       "      <td>Female</td>\n",
       "      <td>42</td>\n",
       "      <td>2</td>\n",
       "      <td>0.00</td>\n",
       "      <td>1</td>\n",
       "      <td>1</td>\n",
       "      <td>1</td>\n",
       "      <td>101348.88</td>\n",
       "      <td>1</td>\n",
       "    </tr>\n",
       "    <tr>\n",
       "      <th>1</th>\n",
       "      <td>608</td>\n",
       "      <td>Spain</td>\n",
       "      <td>Female</td>\n",
       "      <td>41</td>\n",
       "      <td>1</td>\n",
       "      <td>83807.86</td>\n",
       "      <td>1</td>\n",
       "      <td>0</td>\n",
       "      <td>1</td>\n",
       "      <td>112542.58</td>\n",
       "      <td>0</td>\n",
       "    </tr>\n",
       "    <tr>\n",
       "      <th>2</th>\n",
       "      <td>502</td>\n",
       "      <td>France</td>\n",
       "      <td>Female</td>\n",
       "      <td>42</td>\n",
       "      <td>8</td>\n",
       "      <td>159660.80</td>\n",
       "      <td>3</td>\n",
       "      <td>1</td>\n",
       "      <td>0</td>\n",
       "      <td>113931.57</td>\n",
       "      <td>1</td>\n",
       "    </tr>\n",
       "    <tr>\n",
       "      <th>3</th>\n",
       "      <td>699</td>\n",
       "      <td>France</td>\n",
       "      <td>Female</td>\n",
       "      <td>39</td>\n",
       "      <td>1</td>\n",
       "      <td>0.00</td>\n",
       "      <td>2</td>\n",
       "      <td>0</td>\n",
       "      <td>0</td>\n",
       "      <td>93826.63</td>\n",
       "      <td>0</td>\n",
       "    </tr>\n",
       "    <tr>\n",
       "      <th>4</th>\n",
       "      <td>850</td>\n",
       "      <td>Spain</td>\n",
       "      <td>Female</td>\n",
       "      <td>43</td>\n",
       "      <td>2</td>\n",
       "      <td>125510.82</td>\n",
       "      <td>1</td>\n",
       "      <td>1</td>\n",
       "      <td>1</td>\n",
       "      <td>79084.10</td>\n",
       "      <td>0</td>\n",
       "    </tr>\n",
       "  </tbody>\n",
       "</table>\n",
       "</div>"
      ],
      "text/plain": [
       "   CreditScore Geography  Gender  Age  Tenure    Balance  NumOfProducts  \\\n",
       "0          619    France  Female   42       2       0.00              1   \n",
       "1          608     Spain  Female   41       1   83807.86              1   \n",
       "2          502    France  Female   42       8  159660.80              3   \n",
       "3          699    France  Female   39       1       0.00              2   \n",
       "4          850     Spain  Female   43       2  125510.82              1   \n",
       "\n",
       "   HasCrCard  IsActiveMember  EstimatedSalary  Exited  \n",
       "0          1               1        101348.88       1  \n",
       "1          0               1        112542.58       0  \n",
       "2          1               0        113931.57       1  \n",
       "3          0               0         93826.63       0  \n",
       "4          1               1         79084.10       0  "
      ]
     },
     "execution_count": 10,
     "metadata": {},
     "output_type": "execute_result"
    }
   ],
   "source": [
    "df.head()"
   ]
  },
  {
   "cell_type": "code",
   "execution_count": 11,
   "metadata": {},
   "outputs": [],
   "source": [
    "df=pd.get_dummies(df,columns=['Geography','Gender'],drop_first=True)\n",
    "# create splitted columns \n",
    "# for gender it will convert it to gender_male and instead of male or female it will assign it 0 or 1 \n",
    "# hence making it numerical"
   ]
  },
  {
   "cell_type": "code",
   "execution_count": 12,
   "metadata": {},
   "outputs": [
    {
     "data": {
      "text/html": [
       "<div>\n",
       "<style scoped>\n",
       "    .dataframe tbody tr th:only-of-type {\n",
       "        vertical-align: middle;\n",
       "    }\n",
       "\n",
       "    .dataframe tbody tr th {\n",
       "        vertical-align: top;\n",
       "    }\n",
       "\n",
       "    .dataframe thead th {\n",
       "        text-align: right;\n",
       "    }\n",
       "</style>\n",
       "<table border=\"1\" class=\"dataframe\">\n",
       "  <thead>\n",
       "    <tr style=\"text-align: right;\">\n",
       "      <th></th>\n",
       "      <th>CreditScore</th>\n",
       "      <th>Age</th>\n",
       "      <th>Tenure</th>\n",
       "      <th>Balance</th>\n",
       "      <th>NumOfProducts</th>\n",
       "      <th>HasCrCard</th>\n",
       "      <th>IsActiveMember</th>\n",
       "      <th>EstimatedSalary</th>\n",
       "      <th>Exited</th>\n",
       "      <th>Geography_Germany</th>\n",
       "      <th>Geography_Spain</th>\n",
       "      <th>Gender_Male</th>\n",
       "    </tr>\n",
       "  </thead>\n",
       "  <tbody>\n",
       "    <tr>\n",
       "      <th>0</th>\n",
       "      <td>619</td>\n",
       "      <td>42</td>\n",
       "      <td>2</td>\n",
       "      <td>0.00</td>\n",
       "      <td>1</td>\n",
       "      <td>1</td>\n",
       "      <td>1</td>\n",
       "      <td>101348.88</td>\n",
       "      <td>1</td>\n",
       "      <td>False</td>\n",
       "      <td>False</td>\n",
       "      <td>False</td>\n",
       "    </tr>\n",
       "    <tr>\n",
       "      <th>1</th>\n",
       "      <td>608</td>\n",
       "      <td>41</td>\n",
       "      <td>1</td>\n",
       "      <td>83807.86</td>\n",
       "      <td>1</td>\n",
       "      <td>0</td>\n",
       "      <td>1</td>\n",
       "      <td>112542.58</td>\n",
       "      <td>0</td>\n",
       "      <td>False</td>\n",
       "      <td>True</td>\n",
       "      <td>False</td>\n",
       "    </tr>\n",
       "    <tr>\n",
       "      <th>2</th>\n",
       "      <td>502</td>\n",
       "      <td>42</td>\n",
       "      <td>8</td>\n",
       "      <td>159660.80</td>\n",
       "      <td>3</td>\n",
       "      <td>1</td>\n",
       "      <td>0</td>\n",
       "      <td>113931.57</td>\n",
       "      <td>1</td>\n",
       "      <td>False</td>\n",
       "      <td>False</td>\n",
       "      <td>False</td>\n",
       "    </tr>\n",
       "    <tr>\n",
       "      <th>3</th>\n",
       "      <td>699</td>\n",
       "      <td>39</td>\n",
       "      <td>1</td>\n",
       "      <td>0.00</td>\n",
       "      <td>2</td>\n",
       "      <td>0</td>\n",
       "      <td>0</td>\n",
       "      <td>93826.63</td>\n",
       "      <td>0</td>\n",
       "      <td>False</td>\n",
       "      <td>False</td>\n",
       "      <td>False</td>\n",
       "    </tr>\n",
       "    <tr>\n",
       "      <th>4</th>\n",
       "      <td>850</td>\n",
       "      <td>43</td>\n",
       "      <td>2</td>\n",
       "      <td>125510.82</td>\n",
       "      <td>1</td>\n",
       "      <td>1</td>\n",
       "      <td>1</td>\n",
       "      <td>79084.10</td>\n",
       "      <td>0</td>\n",
       "      <td>False</td>\n",
       "      <td>True</td>\n",
       "      <td>False</td>\n",
       "    </tr>\n",
       "  </tbody>\n",
       "</table>\n",
       "</div>"
      ],
      "text/plain": [
       "   CreditScore  Age  Tenure    Balance  NumOfProducts  HasCrCard  \\\n",
       "0          619   42       2       0.00              1          1   \n",
       "1          608   41       1   83807.86              1          0   \n",
       "2          502   42       8  159660.80              3          1   \n",
       "3          699   39       1       0.00              2          0   \n",
       "4          850   43       2  125510.82              1          1   \n",
       "\n",
       "   IsActiveMember  EstimatedSalary  Exited  Geography_Germany  \\\n",
       "0               1        101348.88       1              False   \n",
       "1               1        112542.58       0              False   \n",
       "2               0        113931.57       1              False   \n",
       "3               0         93826.63       0              False   \n",
       "4               1         79084.10       0              False   \n",
       "\n",
       "   Geography_Spain  Gender_Male  \n",
       "0            False        False  \n",
       "1             True        False  \n",
       "2            False        False  \n",
       "3            False        False  \n",
       "4             True        False  "
      ]
     },
     "execution_count": 12,
     "metadata": {},
     "output_type": "execute_result"
    }
   ],
   "source": [
    "df.head()"
   ]
  },
  {
   "cell_type": "code",
   "execution_count": 13,
   "metadata": {},
   "outputs": [],
   "source": [
    "X = df.drop(columns=['Exited'])\n",
    "y= df['Exited']"
   ]
  },
  {
   "cell_type": "code",
   "execution_count": 14,
   "metadata": {},
   "outputs": [],
   "source": [
    "from sklearn.model_selection import train_test_split\n",
    "X_train,X_test,y_train,y_test = train_test_split(X,y,test_size=0.2,random_state=1)"
   ]
  },
  {
   "cell_type": "code",
   "execution_count": 15,
   "metadata": {},
   "outputs": [],
   "source": [
    "from sklearn.preprocessing import StandardScaler\n",
    "scaler = StandardScaler()\n",
    "\n",
    "X_train_scaled = scaler.fit_transform(X_train)\n",
    "X_test_scaled = scaler.fit_transform(X_test)\n",
    "\n",
    "# scaling of data is necessary because some values are very large and some are very small"
   ]
  },
  {
   "cell_type": "code",
   "execution_count": 16,
   "metadata": {},
   "outputs": [
    {
     "name": "stdout",
     "output_type": "stream",
     "text": [
      "Requirement already satisfied: tensorflow in c:\\users\\tusha\\anaconda3\\lib\\site-packages (2.13.0)\n",
      "Requirement already satisfied: tensorflow-intel==2.13.0 in c:\\users\\tusha\\anaconda3\\lib\\site-packages (from tensorflow) (2.13.0)\n",
      "Requirement already satisfied: absl-py>=1.0.0 in c:\\users\\tusha\\anaconda3\\lib\\site-packages (from tensorflow-intel==2.13.0->tensorflow) (1.4.0)\n",
      "Requirement already satisfied: astunparse>=1.6.0 in c:\\users\\tusha\\anaconda3\\lib\\site-packages (from tensorflow-intel==2.13.0->tensorflow) (1.6.3)\n",
      "Requirement already satisfied: flatbuffers>=23.1.21 in c:\\users\\tusha\\anaconda3\\lib\\site-packages (from tensorflow-intel==2.13.0->tensorflow) (23.5.26)\n",
      "Requirement already satisfied: gast<=0.4.0,>=0.2.1 in c:\\users\\tusha\\anaconda3\\lib\\site-packages (from tensorflow-intel==2.13.0->tensorflow) (0.4.0)\n",
      "Requirement already satisfied: google-pasta>=0.1.1 in c:\\users\\tusha\\anaconda3\\lib\\site-packages (from tensorflow-intel==2.13.0->tensorflow) (0.2.0)\n",
      "Requirement already satisfied: h5py>=2.9.0 in c:\\users\\tusha\\anaconda3\\lib\\site-packages (from tensorflow-intel==2.13.0->tensorflow) (3.9.0)\n",
      "Requirement already satisfied: libclang>=13.0.0 in c:\\users\\tusha\\anaconda3\\lib\\site-packages (from tensorflow-intel==2.13.0->tensorflow) (16.0.6)\n",
      "Requirement already satisfied: numpy<=1.24.3,>=1.22 in c:\\users\\tusha\\anaconda3\\lib\\site-packages (from tensorflow-intel==2.13.0->tensorflow) (1.24.3)\n",
      "Requirement already satisfied: opt-einsum>=2.3.2 in c:\\users\\tusha\\anaconda3\\lib\\site-packages (from tensorflow-intel==2.13.0->tensorflow) (3.3.0)\n",
      "Requirement already satisfied: packaging in c:\\users\\tusha\\appdata\\roaming\\python\\python311\\site-packages (from tensorflow-intel==2.13.0->tensorflow) (23.1)\n",
      "Requirement already satisfied: protobuf!=4.21.0,!=4.21.1,!=4.21.2,!=4.21.3,!=4.21.4,!=4.21.5,<5.0.0dev,>=3.20.3 in c:\\users\\tusha\\anaconda3\\lib\\site-packages (from tensorflow-intel==2.13.0->tensorflow) (4.24.3)\n",
      "Requirement already satisfied: setuptools in c:\\users\\tusha\\anaconda3\\lib\\site-packages (from tensorflow-intel==2.13.0->tensorflow) (68.0.0)\n",
      "Requirement already satisfied: six>=1.12.0 in c:\\users\\tusha\\appdata\\roaming\\python\\python311\\site-packages (from tensorflow-intel==2.13.0->tensorflow) (1.16.0)\n",
      "Requirement already satisfied: termcolor>=1.1.0 in c:\\users\\tusha\\anaconda3\\lib\\site-packages (from tensorflow-intel==2.13.0->tensorflow) (2.3.0)\n",
      "Requirement already satisfied: typing-extensions<4.6.0,>=3.6.6 in c:\\users\\tusha\\anaconda3\\lib\\site-packages (from tensorflow-intel==2.13.0->tensorflow) (4.5.0)\n",
      "Requirement already satisfied: wrapt>=1.11.0 in c:\\users\\tusha\\anaconda3\\lib\\site-packages (from tensorflow-intel==2.13.0->tensorflow) (1.14.1)\n",
      "Requirement already satisfied: grpcio<2.0,>=1.24.3 in c:\\users\\tusha\\anaconda3\\lib\\site-packages (from tensorflow-intel==2.13.0->tensorflow) (1.58.0)\n",
      "Requirement already satisfied: tensorboard<2.14,>=2.13 in c:\\users\\tusha\\anaconda3\\lib\\site-packages (from tensorflow-intel==2.13.0->tensorflow) (2.13.0)\n",
      "Requirement already satisfied: tensorflow-estimator<2.14,>=2.13.0 in c:\\users\\tusha\\anaconda3\\lib\\site-packages (from tensorflow-intel==2.13.0->tensorflow) (2.13.0)\n",
      "Requirement already satisfied: keras<2.14,>=2.13.1 in c:\\users\\tusha\\anaconda3\\lib\\site-packages (from tensorflow-intel==2.13.0->tensorflow) (2.13.1)\n",
      "Requirement already satisfied: tensorflow-io-gcs-filesystem>=0.23.1 in c:\\users\\tusha\\anaconda3\\lib\\site-packages (from tensorflow-intel==2.13.0->tensorflow) (0.31.0)\n",
      "Requirement already satisfied: wheel<1.0,>=0.23.0 in c:\\users\\tusha\\anaconda3\\lib\\site-packages (from astunparse>=1.6.0->tensorflow-intel==2.13.0->tensorflow) (0.38.4)\n",
      "Requirement already satisfied: google-auth<3,>=1.6.3 in c:\\users\\tusha\\anaconda3\\lib\\site-packages (from tensorboard<2.14,>=2.13->tensorflow-intel==2.13.0->tensorflow) (2.23.0)\n",
      "Requirement already satisfied: google-auth-oauthlib<1.1,>=0.5 in c:\\users\\tusha\\anaconda3\\lib\\site-packages (from tensorboard<2.14,>=2.13->tensorflow-intel==2.13.0->tensorflow) (1.0.0)\n",
      "Requirement already satisfied: markdown>=2.6.8 in c:\\users\\tusha\\anaconda3\\lib\\site-packages (from tensorboard<2.14,>=2.13->tensorflow-intel==2.13.0->tensorflow) (3.4.1)\n",
      "Requirement already satisfied: requests<3,>=2.21.0 in c:\\users\\tusha\\anaconda3\\lib\\site-packages (from tensorboard<2.14,>=2.13->tensorflow-intel==2.13.0->tensorflow) (2.31.0)\n",
      "Requirement already satisfied: tensorboard-data-server<0.8.0,>=0.7.0 in c:\\users\\tusha\\anaconda3\\lib\\site-packages (from tensorboard<2.14,>=2.13->tensorflow-intel==2.13.0->tensorflow) (0.7.1)\n",
      "Requirement already satisfied: werkzeug>=1.0.1 in c:\\users\\tusha\\anaconda3\\lib\\site-packages (from tensorboard<2.14,>=2.13->tensorflow-intel==2.13.0->tensorflow) (2.2.3)\n",
      "Requirement already satisfied: cachetools<6.0,>=2.0.0 in c:\\users\\tusha\\anaconda3\\lib\\site-packages (from google-auth<3,>=1.6.3->tensorboard<2.14,>=2.13->tensorflow-intel==2.13.0->tensorflow) (5.3.1)\n",
      "Requirement already satisfied: pyasn1-modules>=0.2.1 in c:\\users\\tusha\\anaconda3\\lib\\site-packages (from google-auth<3,>=1.6.3->tensorboard<2.14,>=2.13->tensorflow-intel==2.13.0->tensorflow) (0.2.8)\n",
      "Requirement already satisfied: rsa<5,>=3.1.4 in c:\\users\\tusha\\anaconda3\\lib\\site-packages (from google-auth<3,>=1.6.3->tensorboard<2.14,>=2.13->tensorflow-intel==2.13.0->tensorflow) (4.9)\n",
      "Requirement already satisfied: urllib3<2.0 in c:\\users\\tusha\\anaconda3\\lib\\site-packages (from google-auth<3,>=1.6.3->tensorboard<2.14,>=2.13->tensorflow-intel==2.13.0->tensorflow) (1.26.16)\n",
      "Requirement already satisfied: requests-oauthlib>=0.7.0 in c:\\users\\tusha\\anaconda3\\lib\\site-packages (from google-auth-oauthlib<1.1,>=0.5->tensorboard<2.14,>=2.13->tensorflow-intel==2.13.0->tensorflow) (1.3.1)\n",
      "Requirement already satisfied: charset-normalizer<4,>=2 in c:\\users\\tusha\\anaconda3\\lib\\site-packages (from requests<3,>=2.21.0->tensorboard<2.14,>=2.13->tensorflow-intel==2.13.0->tensorflow) (2.0.4)\n",
      "Requirement already satisfied: idna<4,>=2.5 in c:\\users\\tusha\\anaconda3\\lib\\site-packages (from requests<3,>=2.21.0->tensorboard<2.14,>=2.13->tensorflow-intel==2.13.0->tensorflow) (3.4)\n",
      "Requirement already satisfied: certifi>=2017.4.17 in c:\\users\\tusha\\anaconda3\\lib\\site-packages (from requests<3,>=2.21.0->tensorboard<2.14,>=2.13->tensorflow-intel==2.13.0->tensorflow) (2023.7.22)\n",
      "Requirement already satisfied: MarkupSafe>=2.1.1 in c:\\users\\tusha\\anaconda3\\lib\\site-packages (from werkzeug>=1.0.1->tensorboard<2.14,>=2.13->tensorflow-intel==2.13.0->tensorflow) (2.1.1)\n",
      "Requirement already satisfied: pyasn1<0.5.0,>=0.4.6 in c:\\users\\tusha\\anaconda3\\lib\\site-packages (from pyasn1-modules>=0.2.1->google-auth<3,>=1.6.3->tensorboard<2.14,>=2.13->tensorflow-intel==2.13.0->tensorflow) (0.4.8)\n",
      "Requirement already satisfied: oauthlib>=3.0.0 in c:\\users\\tusha\\anaconda3\\lib\\site-packages (from requests-oauthlib>=0.7.0->google-auth-oauthlib<1.1,>=0.5->tensorboard<2.14,>=2.13->tensorflow-intel==2.13.0->tensorflow) (3.2.2)\n"
     ]
    }
   ],
   "source": [
    "!pip install tensorflow"
   ]
  },
  {
   "cell_type": "code",
   "execution_count": 17,
   "metadata": {},
   "outputs": [],
   "source": [
    "import tensorflow\n",
    "from tensorflow import keras\n",
    "from tensorflow.keras import Sequential\n",
    "from tensorflow.keras.layers import Dense"
   ]
  },
  {
   "cell_type": "code",
   "execution_count": 18,
   "metadata": {},
   "outputs": [],
   "source": [
    "model = Sequential()\n",
    "model.add(Dense(3,activation='sigmoid',input_dim=11))\n",
    "model.add(Dense(1,activation='sigmoid'))"
   ]
  },
  {
   "cell_type": "code",
   "execution_count": 19,
   "metadata": {},
   "outputs": [
    {
     "name": "stdout",
     "output_type": "stream",
     "text": [
      "Model: \"sequential\"\n",
      "_________________________________________________________________\n",
      " Layer (type)                Output Shape              Param #   \n",
      "=================================================================\n",
      " dense (Dense)               (None, 3)                 36        \n",
      "                                                                 \n",
      " dense_1 (Dense)             (None, 1)                 4         \n",
      "                                                                 \n",
      "=================================================================\n",
      "Total params: 40 (160.00 Byte)\n",
      "Trainable params: 40 (160.00 Byte)\n",
      "Non-trainable params: 0 (0.00 Byte)\n",
      "_________________________________________________________________\n"
     ]
    }
   ],
   "source": [
    "model.summary()"
   ]
  },
  {
   "cell_type": "code",
   "execution_count": 20,
   "metadata": {},
   "outputs": [],
   "source": [
    "model.compile(loss='binary_crossentropy',optimizer='Adam')"
   ]
  },
  {
   "cell_type": "code",
   "execution_count": 21,
   "metadata": {},
   "outputs": [
    {
     "name": "stdout",
     "output_type": "stream",
     "text": [
      "Epoch 1/10\n",
      "250/250 [==============================] - 1s 1ms/step - loss: 0.8593\n",
      "Epoch 2/10\n",
      "250/250 [==============================] - 0s 1ms/step - loss: 0.6772\n",
      "Epoch 3/10\n",
      "250/250 [==============================] - 0s 1ms/step - loss: 0.5898\n",
      "Epoch 4/10\n",
      "250/250 [==============================] - 0s 2ms/step - loss: 0.5476\n",
      "Epoch 5/10\n",
      "250/250 [==============================] - 0s 1ms/step - loss: 0.5242\n",
      "Epoch 6/10\n",
      "250/250 [==============================] - 0s 1ms/step - loss: 0.5068\n",
      "Epoch 7/10\n",
      "250/250 [==============================] - 0s 1ms/step - loss: 0.4920\n",
      "Epoch 8/10\n",
      "250/250 [==============================] - 0s 1ms/step - loss: 0.4795\n",
      "Epoch 9/10\n",
      "250/250 [==============================] - 0s 1ms/step - loss: 0.4686\n",
      "Epoch 10/10\n",
      "250/250 [==============================] - 0s 1ms/step - loss: 0.4589\n"
     ]
    },
    {
     "data": {
      "text/plain": [
       "<keras.src.callbacks.History at 0x1ad185443d0>"
      ]
     },
     "execution_count": 21,
     "metadata": {},
     "output_type": "execute_result"
    }
   ],
   "source": [
    "model.fit(X_train_scaled,y_train,epochs=10)"
   ]
  },
  {
   "cell_type": "code",
   "execution_count": 22,
   "metadata": {},
   "outputs": [
    {
     "data": {
      "text/plain": [
       "[array([[ 0.23473553, -0.06810024,  0.1941702 ],\n",
       "        [-1.5434465 , -0.56636274,  1.2967279 ],\n",
       "        [ 0.0655829 , -0.18461433, -0.3672633 ],\n",
       "        [-0.293637  , -0.4709177 ,  0.4491364 ],\n",
       "        [-0.11982943,  0.7332936 , -0.31703773],\n",
       "        [ 0.15604411,  0.16995148, -0.02410302],\n",
       "        [ 0.9344281 ,  0.2826598 , -0.6000832 ],\n",
       "        [-0.2735283 ,  0.1847557 ,  0.15937863],\n",
       "        [-0.6889827 , -0.6789265 ,  0.7320024 ],\n",
       "        [ 0.21778443,  0.03396968,  0.27809975],\n",
       "        [ 0.5457764 ,  0.14023568, -0.5483903 ]], dtype=float32),\n",
       " array([ 0.20274809, -0.08435331, -0.43066335], dtype=float32)]"
      ]
     },
     "execution_count": 22,
     "metadata": {},
     "output_type": "execute_result"
    }
   ],
   "source": [
    "model.layers[0].get_weights()\n",
    "# it will give us weights and bias values"
   ]
  },
  {
   "cell_type": "code",
   "execution_count": 23,
   "metadata": {},
   "outputs": [
    {
     "data": {
      "text/plain": [
       "[array([[-0.80539703],\n",
       "        [-0.4034495 ],\n",
       "        [ 0.3356809 ]], dtype=float32),\n",
       " array([-0.94586235], dtype=float32)]"
      ]
     },
     "execution_count": 23,
     "metadata": {},
     "output_type": "execute_result"
    }
   ],
   "source": [
    "model.layers[1].get_weights()"
   ]
  },
  {
   "cell_type": "code",
   "execution_count": 24,
   "metadata": {},
   "outputs": [
    {
     "name": "stdout",
     "output_type": "stream",
     "text": [
      "63/63 [==============================] - 0s 984us/step\n"
     ]
    },
    {
     "data": {
      "text/plain": [
       "array([[0.14340585],\n",
       "       [0.18112928],\n",
       "       [0.16770281],\n",
       "       ...,\n",
       "       [0.11494476],\n",
       "       [0.20097321],\n",
       "       [0.2992614 ]], dtype=float32)"
      ]
     },
     "execution_count": 24,
     "metadata": {},
     "output_type": "execute_result"
    }
   ],
   "source": [
    "model.predict(X_test_scaled)\n",
    "# it gives us probability and not 0 or 1\n",
    "# so we can convert it into 0 or 1 by taking a threshold"
   ]
  },
  {
   "cell_type": "code",
   "execution_count": 25,
   "metadata": {},
   "outputs": [
    {
     "name": "stdout",
     "output_type": "stream",
     "text": [
      "63/63 [==============================] - 0s 1ms/step\n"
     ]
    },
    {
     "data": {
      "text/plain": [
       "array([[0],\n",
       "       [0],\n",
       "       [0],\n",
       "       ...,\n",
       "       [0],\n",
       "       [0],\n",
       "       [0]])"
      ]
     },
     "execution_count": 25,
     "metadata": {},
     "output_type": "execute_result"
    }
   ],
   "source": [
    "np.where(model.predict(X_test_scaled)>0.5 ,1,0)"
   ]
  },
  {
   "cell_type": "code",
   "execution_count": 26,
   "metadata": {},
   "outputs": [
    {
     "name": "stdout",
     "output_type": "stream",
     "text": [
      "63/63 [==============================] - 0s 993us/step\n"
     ]
    }
   ],
   "source": [
    "y_pred = np.where(model.predict(X_test_scaled)>0.5 ,1,0)"
   ]
  },
  {
   "cell_type": "code",
   "execution_count": 27,
   "metadata": {},
   "outputs": [
    {
     "data": {
      "text/plain": [
       "0.7925"
      ]
     },
     "execution_count": 27,
     "metadata": {},
     "output_type": "execute_result"
    }
   ],
   "source": [
    "from sklearn.metrics import accuracy_score\n",
    "accuracy_score(y_test,y_pred)"
   ]
  },
  {
   "cell_type": "markdown",
   "metadata": {},
   "source": [
    "### some experiments"
   ]
  },
  {
   "cell_type": "code",
   "execution_count": 28,
   "metadata": {},
   "outputs": [],
   "source": [
    "model = Sequential()\n",
    "model.add(Dense(11,activation='relu',input_dim=11))\n",
    "model.add(Dense(11,activation='relu'))\n",
    "model.add(Dense(1,activation='sigmoid'))"
   ]
  },
  {
   "cell_type": "code",
   "execution_count": 29,
   "metadata": {},
   "outputs": [
    {
     "name": "stdout",
     "output_type": "stream",
     "text": [
      "Model: \"sequential_1\"\n",
      "_________________________________________________________________\n",
      " Layer (type)                Output Shape              Param #   \n",
      "=================================================================\n",
      " dense_2 (Dense)             (None, 11)                132       \n",
      "                                                                 \n",
      " dense_3 (Dense)             (None, 11)                132       \n",
      "                                                                 \n",
      " dense_4 (Dense)             (None, 1)                 12        \n",
      "                                                                 \n",
      "=================================================================\n",
      "Total params: 276 (1.08 KB)\n",
      "Trainable params: 276 (1.08 KB)\n",
      "Non-trainable params: 0 (0.00 Byte)\n",
      "_________________________________________________________________\n"
     ]
    }
   ],
   "source": [
    "model.summary()"
   ]
  },
  {
   "cell_type": "code",
   "execution_count": 30,
   "metadata": {},
   "outputs": [],
   "source": [
    "model.compile(loss='binary_crossentropy',optimizer='Adam',metrics=['accuracy'])\n",
    "# adding metrice along as well"
   ]
  },
  {
   "cell_type": "code",
   "execution_count": 31,
   "metadata": {},
   "outputs": [
    {
     "name": "stdout",
     "output_type": "stream",
     "text": [
      "Epoch 1/100\n"
     ]
    },
    {
     "name": "stdout",
     "output_type": "stream",
     "text": [
      "200/200 [==============================] - 1s 2ms/step - loss: 0.5105 - accuracy: 0.7917 - val_loss: 0.4715 - val_accuracy: 0.7975\n",
      "Epoch 2/100\n",
      "200/200 [==============================] - 0s 1ms/step - loss: 0.4569 - accuracy: 0.7972 - val_loss: 0.4545 - val_accuracy: 0.7975\n",
      "Epoch 3/100\n",
      "200/200 [==============================] - 0s 1ms/step - loss: 0.4421 - accuracy: 0.7983 - val_loss: 0.4453 - val_accuracy: 0.7975\n",
      "Epoch 4/100\n",
      "200/200 [==============================] - 0s 2ms/step - loss: 0.4338 - accuracy: 0.8006 - val_loss: 0.4374 - val_accuracy: 0.8000\n",
      "Epoch 5/100\n",
      "200/200 [==============================] - 0s 2ms/step - loss: 0.4260 - accuracy: 0.8102 - val_loss: 0.4299 - val_accuracy: 0.8069\n",
      "Epoch 6/100\n",
      "200/200 [==============================] - 0s 2ms/step - loss: 0.4174 - accuracy: 0.8222 - val_loss: 0.4212 - val_accuracy: 0.8144\n",
      "Epoch 7/100\n",
      "200/200 [==============================] - 0s 2ms/step - loss: 0.4066 - accuracy: 0.8308 - val_loss: 0.4088 - val_accuracy: 0.8231\n",
      "Epoch 8/100\n",
      "200/200 [==============================] - 0s 2ms/step - loss: 0.3937 - accuracy: 0.8342 - val_loss: 0.3947 - val_accuracy: 0.8331\n",
      "Epoch 9/100\n",
      "200/200 [==============================] - 0s 2ms/step - loss: 0.3799 - accuracy: 0.8419 - val_loss: 0.3779 - val_accuracy: 0.8450\n",
      "Epoch 10/100\n",
      "200/200 [==============================] - 0s 2ms/step - loss: 0.3690 - accuracy: 0.8486 - val_loss: 0.3692 - val_accuracy: 0.8462\n",
      "Epoch 11/100\n",
      "200/200 [==============================] - 0s 2ms/step - loss: 0.3610 - accuracy: 0.8500 - val_loss: 0.3625 - val_accuracy: 0.8494\n",
      "Epoch 12/100\n",
      "200/200 [==============================] - 0s 2ms/step - loss: 0.3556 - accuracy: 0.8519 - val_loss: 0.3589 - val_accuracy: 0.8438\n",
      "Epoch 13/100\n",
      "200/200 [==============================] - 0s 2ms/step - loss: 0.3521 - accuracy: 0.8555 - val_loss: 0.3553 - val_accuracy: 0.8481\n",
      "Epoch 14/100\n",
      "200/200 [==============================] - 0s 2ms/step - loss: 0.3499 - accuracy: 0.8552 - val_loss: 0.3532 - val_accuracy: 0.8475\n",
      "Epoch 15/100\n",
      "200/200 [==============================] - 0s 2ms/step - loss: 0.3477 - accuracy: 0.8564 - val_loss: 0.3522 - val_accuracy: 0.8500\n",
      "Epoch 16/100\n",
      "200/200 [==============================] - 1s 3ms/step - loss: 0.3462 - accuracy: 0.8562 - val_loss: 0.3531 - val_accuracy: 0.8500\n",
      "Epoch 17/100\n",
      "200/200 [==============================] - 0s 2ms/step - loss: 0.3447 - accuracy: 0.8586 - val_loss: 0.3517 - val_accuracy: 0.8500\n",
      "Epoch 18/100\n",
      "200/200 [==============================] - 0s 2ms/step - loss: 0.3440 - accuracy: 0.8584 - val_loss: 0.3512 - val_accuracy: 0.8519\n",
      "Epoch 19/100\n",
      "200/200 [==============================] - 0s 2ms/step - loss: 0.3433 - accuracy: 0.8584 - val_loss: 0.3519 - val_accuracy: 0.8506\n",
      "Epoch 20/100\n",
      "200/200 [==============================] - 0s 2ms/step - loss: 0.3424 - accuracy: 0.8606 - val_loss: 0.3522 - val_accuracy: 0.8506\n",
      "Epoch 21/100\n",
      "200/200 [==============================] - 0s 2ms/step - loss: 0.3425 - accuracy: 0.8591 - val_loss: 0.3502 - val_accuracy: 0.8500\n",
      "Epoch 22/100\n",
      "200/200 [==============================] - 0s 2ms/step - loss: 0.3408 - accuracy: 0.8594 - val_loss: 0.3497 - val_accuracy: 0.8494\n",
      "Epoch 23/100\n",
      "200/200 [==============================] - 0s 2ms/step - loss: 0.3400 - accuracy: 0.8606 - val_loss: 0.3512 - val_accuracy: 0.8494\n",
      "Epoch 24/100\n",
      "200/200 [==============================] - 0s 2ms/step - loss: 0.3401 - accuracy: 0.8608 - val_loss: 0.3514 - val_accuracy: 0.8500\n",
      "Epoch 25/100\n",
      "200/200 [==============================] - 0s 2ms/step - loss: 0.3393 - accuracy: 0.8620 - val_loss: 0.3504 - val_accuracy: 0.8519\n",
      "Epoch 26/100\n",
      "200/200 [==============================] - 0s 2ms/step - loss: 0.3390 - accuracy: 0.8623 - val_loss: 0.3493 - val_accuracy: 0.8500\n",
      "Epoch 27/100\n",
      "200/200 [==============================] - 0s 2ms/step - loss: 0.3381 - accuracy: 0.8606 - val_loss: 0.3497 - val_accuracy: 0.8506\n",
      "Epoch 28/100\n",
      "200/200 [==============================] - 0s 2ms/step - loss: 0.3381 - accuracy: 0.8622 - val_loss: 0.3484 - val_accuracy: 0.8525\n",
      "Epoch 29/100\n",
      "200/200 [==============================] - 0s 2ms/step - loss: 0.3373 - accuracy: 0.8614 - val_loss: 0.3491 - val_accuracy: 0.8500\n",
      "Epoch 30/100\n",
      "200/200 [==============================] - 0s 2ms/step - loss: 0.3367 - accuracy: 0.8620 - val_loss: 0.3486 - val_accuracy: 0.8500\n",
      "Epoch 31/100\n",
      "200/200 [==============================] - 0s 1ms/step - loss: 0.3361 - accuracy: 0.8637 - val_loss: 0.3484 - val_accuracy: 0.8500\n",
      "Epoch 32/100\n",
      "200/200 [==============================] - 0s 1ms/step - loss: 0.3361 - accuracy: 0.8625 - val_loss: 0.3491 - val_accuracy: 0.8481\n",
      "Epoch 33/100\n",
      "200/200 [==============================] - 0s 1ms/step - loss: 0.3352 - accuracy: 0.8623 - val_loss: 0.3474 - val_accuracy: 0.8500\n",
      "Epoch 34/100\n",
      "200/200 [==============================] - 0s 1ms/step - loss: 0.3353 - accuracy: 0.8648 - val_loss: 0.3488 - val_accuracy: 0.8500\n",
      "Epoch 35/100\n",
      "200/200 [==============================] - 0s 1ms/step - loss: 0.3350 - accuracy: 0.8644 - val_loss: 0.3485 - val_accuracy: 0.8506\n",
      "Epoch 36/100\n",
      "200/200 [==============================] - 0s 1ms/step - loss: 0.3347 - accuracy: 0.8631 - val_loss: 0.3489 - val_accuracy: 0.8506\n",
      "Epoch 37/100\n",
      "200/200 [==============================] - 0s 2ms/step - loss: 0.3344 - accuracy: 0.8647 - val_loss: 0.3485 - val_accuracy: 0.8487\n",
      "Epoch 38/100\n",
      "200/200 [==============================] - 0s 1ms/step - loss: 0.3340 - accuracy: 0.8650 - val_loss: 0.3481 - val_accuracy: 0.8481\n",
      "Epoch 39/100\n",
      "200/200 [==============================] - 0s 2ms/step - loss: 0.3336 - accuracy: 0.8659 - val_loss: 0.3485 - val_accuracy: 0.8475\n",
      "Epoch 40/100\n",
      "200/200 [==============================] - 0s 2ms/step - loss: 0.3328 - accuracy: 0.8658 - val_loss: 0.3471 - val_accuracy: 0.8544\n",
      "Epoch 41/100\n",
      "200/200 [==============================] - 0s 1ms/step - loss: 0.3333 - accuracy: 0.8642 - val_loss: 0.3478 - val_accuracy: 0.8519\n",
      "Epoch 42/100\n",
      "200/200 [==============================] - 0s 1ms/step - loss: 0.3326 - accuracy: 0.8641 - val_loss: 0.3476 - val_accuracy: 0.8506\n",
      "Epoch 43/100\n",
      "200/200 [==============================] - 0s 2ms/step - loss: 0.3324 - accuracy: 0.8641 - val_loss: 0.3488 - val_accuracy: 0.8481\n",
      "Epoch 44/100\n",
      "200/200 [==============================] - 0s 2ms/step - loss: 0.3316 - accuracy: 0.8658 - val_loss: 0.3476 - val_accuracy: 0.8494\n",
      "Epoch 45/100\n",
      "200/200 [==============================] - 0s 2ms/step - loss: 0.3315 - accuracy: 0.8637 - val_loss: 0.3478 - val_accuracy: 0.8475\n",
      "Epoch 46/100\n",
      "200/200 [==============================] - 0s 1ms/step - loss: 0.3313 - accuracy: 0.8645 - val_loss: 0.3469 - val_accuracy: 0.8531\n",
      "Epoch 47/100\n",
      "200/200 [==============================] - 0s 1ms/step - loss: 0.3313 - accuracy: 0.8642 - val_loss: 0.3477 - val_accuracy: 0.8475\n",
      "Epoch 48/100\n",
      "200/200 [==============================] - 0s 1ms/step - loss: 0.3307 - accuracy: 0.8655 - val_loss: 0.3481 - val_accuracy: 0.8475\n",
      "Epoch 49/100\n",
      "200/200 [==============================] - 0s 1ms/step - loss: 0.3311 - accuracy: 0.8655 - val_loss: 0.3462 - val_accuracy: 0.8487\n",
      "Epoch 50/100\n",
      "200/200 [==============================] - 0s 2ms/step - loss: 0.3310 - accuracy: 0.8641 - val_loss: 0.3469 - val_accuracy: 0.8525\n",
      "Epoch 51/100\n",
      "200/200 [==============================] - 0s 2ms/step - loss: 0.3304 - accuracy: 0.8650 - val_loss: 0.3490 - val_accuracy: 0.8494\n",
      "Epoch 52/100\n",
      "200/200 [==============================] - 0s 2ms/step - loss: 0.3302 - accuracy: 0.8645 - val_loss: 0.3475 - val_accuracy: 0.8462\n",
      "Epoch 53/100\n",
      "200/200 [==============================] - 0s 2ms/step - loss: 0.3303 - accuracy: 0.8659 - val_loss: 0.3498 - val_accuracy: 0.8481\n",
      "Epoch 54/100\n",
      "200/200 [==============================] - 0s 2ms/step - loss: 0.3297 - accuracy: 0.8662 - val_loss: 0.3481 - val_accuracy: 0.8475\n",
      "Epoch 55/100\n",
      "200/200 [==============================] - 0s 2ms/step - loss: 0.3293 - accuracy: 0.8655 - val_loss: 0.3474 - val_accuracy: 0.8519\n",
      "Epoch 56/100\n",
      "200/200 [==============================] - 0s 2ms/step - loss: 0.3297 - accuracy: 0.8655 - val_loss: 0.3474 - val_accuracy: 0.8494\n",
      "Epoch 57/100\n",
      "200/200 [==============================] - 0s 2ms/step - loss: 0.3290 - accuracy: 0.8662 - val_loss: 0.3472 - val_accuracy: 0.8450\n",
      "Epoch 58/100\n",
      "200/200 [==============================] - 0s 2ms/step - loss: 0.3291 - accuracy: 0.8658 - val_loss: 0.3472 - val_accuracy: 0.8512\n",
      "Epoch 59/100\n",
      "200/200 [==============================] - 0s 2ms/step - loss: 0.3285 - accuracy: 0.8655 - val_loss: 0.3471 - val_accuracy: 0.8506\n",
      "Epoch 60/100\n",
      "200/200 [==============================] - 0s 2ms/step - loss: 0.3286 - accuracy: 0.8659 - val_loss: 0.3481 - val_accuracy: 0.8494\n",
      "Epoch 61/100\n",
      "200/200 [==============================] - 0s 2ms/step - loss: 0.3278 - accuracy: 0.8653 - val_loss: 0.3477 - val_accuracy: 0.8506\n",
      "Epoch 62/100\n",
      "200/200 [==============================] - 0s 2ms/step - loss: 0.3286 - accuracy: 0.8658 - val_loss: 0.3485 - val_accuracy: 0.8481\n",
      "Epoch 63/100\n",
      "200/200 [==============================] - 0s 2ms/step - loss: 0.3280 - accuracy: 0.8658 - val_loss: 0.3481 - val_accuracy: 0.8481\n",
      "Epoch 64/100\n",
      "200/200 [==============================] - 0s 2ms/step - loss: 0.3271 - accuracy: 0.8677 - val_loss: 0.3477 - val_accuracy: 0.8531\n",
      "Epoch 65/100\n",
      "200/200 [==============================] - 0s 2ms/step - loss: 0.3281 - accuracy: 0.8652 - val_loss: 0.3480 - val_accuracy: 0.8506\n",
      "Epoch 66/100\n",
      "200/200 [==============================] - 0s 2ms/step - loss: 0.3277 - accuracy: 0.8673 - val_loss: 0.3496 - val_accuracy: 0.8500\n",
      "Epoch 67/100\n",
      "200/200 [==============================] - 0s 2ms/step - loss: 0.3277 - accuracy: 0.8667 - val_loss: 0.3493 - val_accuracy: 0.8500\n",
      "Epoch 68/100\n",
      "200/200 [==============================] - 0s 2ms/step - loss: 0.3269 - accuracy: 0.8667 - val_loss: 0.3495 - val_accuracy: 0.8500\n",
      "Epoch 69/100\n",
      "200/200 [==============================] - 0s 2ms/step - loss: 0.3275 - accuracy: 0.8669 - val_loss: 0.3474 - val_accuracy: 0.8481\n",
      "Epoch 70/100\n",
      "200/200 [==============================] - 0s 1ms/step - loss: 0.3272 - accuracy: 0.8653 - val_loss: 0.3476 - val_accuracy: 0.8544\n",
      "Epoch 71/100\n",
      "200/200 [==============================] - 0s 2ms/step - loss: 0.3270 - accuracy: 0.8662 - val_loss: 0.3493 - val_accuracy: 0.8500\n",
      "Epoch 72/100\n",
      "200/200 [==============================] - 0s 2ms/step - loss: 0.3272 - accuracy: 0.8667 - val_loss: 0.3467 - val_accuracy: 0.8512\n",
      "Epoch 73/100\n",
      "200/200 [==============================] - 0s 1ms/step - loss: 0.3265 - accuracy: 0.8653 - val_loss: 0.3498 - val_accuracy: 0.8481\n",
      "Epoch 74/100\n",
      "200/200 [==============================] - 0s 1ms/step - loss: 0.3266 - accuracy: 0.8667 - val_loss: 0.3476 - val_accuracy: 0.8519\n",
      "Epoch 75/100\n",
      "200/200 [==============================] - 0s 1ms/step - loss: 0.3266 - accuracy: 0.8658 - val_loss: 0.3466 - val_accuracy: 0.8512\n",
      "Epoch 76/100\n",
      "200/200 [==============================] - 0s 2ms/step - loss: 0.3264 - accuracy: 0.8666 - val_loss: 0.3476 - val_accuracy: 0.8494\n",
      "Epoch 77/100\n",
      "200/200 [==============================] - 0s 1ms/step - loss: 0.3263 - accuracy: 0.8664 - val_loss: 0.3478 - val_accuracy: 0.8500\n",
      "Epoch 78/100\n",
      "200/200 [==============================] - 0s 1ms/step - loss: 0.3264 - accuracy: 0.8648 - val_loss: 0.3476 - val_accuracy: 0.8525\n",
      "Epoch 79/100\n",
      "200/200 [==============================] - 0s 2ms/step - loss: 0.3261 - accuracy: 0.8673 - val_loss: 0.3495 - val_accuracy: 0.8469\n",
      "Epoch 80/100\n",
      "200/200 [==============================] - 0s 2ms/step - loss: 0.3261 - accuracy: 0.8642 - val_loss: 0.3479 - val_accuracy: 0.8444\n",
      "Epoch 81/100\n",
      "200/200 [==============================] - 0s 2ms/step - loss: 0.3256 - accuracy: 0.8669 - val_loss: 0.3475 - val_accuracy: 0.8506\n",
      "Epoch 82/100\n",
      "200/200 [==============================] - 0s 2ms/step - loss: 0.3251 - accuracy: 0.8666 - val_loss: 0.3479 - val_accuracy: 0.8506\n",
      "Epoch 83/100\n",
      "200/200 [==============================] - 0s 2ms/step - loss: 0.3258 - accuracy: 0.8667 - val_loss: 0.3467 - val_accuracy: 0.8469\n",
      "Epoch 84/100\n",
      "200/200 [==============================] - 0s 1ms/step - loss: 0.3256 - accuracy: 0.8655 - val_loss: 0.3489 - val_accuracy: 0.8481\n",
      "Epoch 85/100\n",
      "200/200 [==============================] - 0s 1ms/step - loss: 0.3257 - accuracy: 0.8669 - val_loss: 0.3488 - val_accuracy: 0.8500\n",
      "Epoch 86/100\n",
      "200/200 [==============================] - 0s 2ms/step - loss: 0.3252 - accuracy: 0.8672 - val_loss: 0.3469 - val_accuracy: 0.8506\n",
      "Epoch 87/100\n",
      "200/200 [==============================] - 0s 2ms/step - loss: 0.3248 - accuracy: 0.8664 - val_loss: 0.3480 - val_accuracy: 0.8475\n",
      "Epoch 88/100\n",
      "200/200 [==============================] - 0s 2ms/step - loss: 0.3249 - accuracy: 0.8680 - val_loss: 0.3484 - val_accuracy: 0.8487\n",
      "Epoch 89/100\n",
      "200/200 [==============================] - 0s 2ms/step - loss: 0.3246 - accuracy: 0.8659 - val_loss: 0.3463 - val_accuracy: 0.8500\n",
      "Epoch 90/100\n",
      "200/200 [==============================] - 0s 2ms/step - loss: 0.3250 - accuracy: 0.8677 - val_loss: 0.3469 - val_accuracy: 0.8494\n",
      "Epoch 91/100\n",
      "200/200 [==============================] - 0s 1ms/step - loss: 0.3248 - accuracy: 0.8647 - val_loss: 0.3502 - val_accuracy: 0.8475\n",
      "Epoch 92/100\n",
      "200/200 [==============================] - 0s 2ms/step - loss: 0.3248 - accuracy: 0.8667 - val_loss: 0.3480 - val_accuracy: 0.8444\n",
      "Epoch 93/100\n",
      "200/200 [==============================] - 0s 1ms/step - loss: 0.3244 - accuracy: 0.8689 - val_loss: 0.3484 - val_accuracy: 0.8469\n",
      "Epoch 94/100\n",
      "200/200 [==============================] - 0s 2ms/step - loss: 0.3244 - accuracy: 0.8672 - val_loss: 0.3474 - val_accuracy: 0.8469\n",
      "Epoch 95/100\n",
      "200/200 [==============================] - 0s 1ms/step - loss: 0.3246 - accuracy: 0.8678 - val_loss: 0.3466 - val_accuracy: 0.8456\n",
      "Epoch 96/100\n",
      "200/200 [==============================] - 0s 1ms/step - loss: 0.3243 - accuracy: 0.8683 - val_loss: 0.3481 - val_accuracy: 0.8487\n",
      "Epoch 97/100\n",
      "200/200 [==============================] - 0s 1ms/step - loss: 0.3243 - accuracy: 0.8673 - val_loss: 0.3479 - val_accuracy: 0.8456\n",
      "Epoch 98/100\n",
      "200/200 [==============================] - 0s 2ms/step - loss: 0.3249 - accuracy: 0.8669 - val_loss: 0.3477 - val_accuracy: 0.8469\n",
      "Epoch 99/100\n",
      "200/200 [==============================] - 0s 2ms/step - loss: 0.3238 - accuracy: 0.8673 - val_loss: 0.3464 - val_accuracy: 0.8487\n",
      "Epoch 100/100\n",
      "200/200 [==============================] - 0s 2ms/step - loss: 0.3239 - accuracy: 0.8667 - val_loss: 0.3490 - val_accuracy: 0.8487\n"
     ]
    }
   ],
   "source": [
    "history = model.fit(X_train_scaled,y_train,epochs=100,validation_split=0.2)\n",
    "# splitting the data into two parts where testing will be performed simultaneously"
   ]
  },
  {
   "cell_type": "code",
   "execution_count": 32,
   "metadata": {},
   "outputs": [
    {
     "data": {
      "text/plain": [
       "{'loss': [0.5105394124984741,\n",
       "  0.45694079995155334,\n",
       "  0.44208598136901855,\n",
       "  0.4338234066963196,\n",
       "  0.4260309934616089,\n",
       "  0.4173802137374878,\n",
       "  0.4065784215927124,\n",
       "  0.3937406837940216,\n",
       "  0.3798772394657135,\n",
       "  0.36897873878479004,\n",
       "  0.3610076904296875,\n",
       "  0.35563504695892334,\n",
       "  0.3521052896976471,\n",
       "  0.3499384820461273,\n",
       "  0.3476632237434387,\n",
       "  0.3461872935295105,\n",
       "  0.3447321951389313,\n",
       "  0.34399181604385376,\n",
       "  0.3433358073234558,\n",
       "  0.342408686876297,\n",
       "  0.34252652525901794,\n",
       "  0.34084048867225647,\n",
       "  0.34003448486328125,\n",
       "  0.3400906026363373,\n",
       "  0.3392951190471649,\n",
       "  0.33901482820510864,\n",
       "  0.338057279586792,\n",
       "  0.33805304765701294,\n",
       "  0.337331086397171,\n",
       "  0.33667901158332825,\n",
       "  0.3360573947429657,\n",
       "  0.3360549807548523,\n",
       "  0.33515843749046326,\n",
       "  0.3353218138217926,\n",
       "  0.33502569794654846,\n",
       "  0.3346697688102722,\n",
       "  0.33438950777053833,\n",
       "  0.33404862880706787,\n",
       "  0.3335719406604767,\n",
       "  0.3327959179878235,\n",
       "  0.3332556486129761,\n",
       "  0.3325556814670563,\n",
       "  0.3323752284049988,\n",
       "  0.33157840371131897,\n",
       "  0.3314628303050995,\n",
       "  0.3312934637069702,\n",
       "  0.33127719163894653,\n",
       "  0.33073070645332336,\n",
       "  0.3311116397380829,\n",
       "  0.3309558629989624,\n",
       "  0.330374538898468,\n",
       "  0.3302403688430786,\n",
       "  0.3303271234035492,\n",
       "  0.3297140896320343,\n",
       "  0.32934197783470154,\n",
       "  0.3297460079193115,\n",
       "  0.32896700501441956,\n",
       "  0.3291291296482086,\n",
       "  0.328533411026001,\n",
       "  0.3285941183567047,\n",
       "  0.3278316557407379,\n",
       "  0.32861754298210144,\n",
       "  0.3279559016227722,\n",
       "  0.3271455764770508,\n",
       "  0.32812654972076416,\n",
       "  0.32774457335472107,\n",
       "  0.3277417719364166,\n",
       "  0.32686561346054077,\n",
       "  0.327515184879303,\n",
       "  0.32722392678260803,\n",
       "  0.3269811272621155,\n",
       "  0.32718250155448914,\n",
       "  0.32652923464775085,\n",
       "  0.32662445306777954,\n",
       "  0.3265901505947113,\n",
       "  0.32639557123184204,\n",
       "  0.3263108730316162,\n",
       "  0.32635852694511414,\n",
       "  0.3261338770389557,\n",
       "  0.3261112868785858,\n",
       "  0.3255728483200073,\n",
       "  0.3251045346260071,\n",
       "  0.3257901668548584,\n",
       "  0.32556644082069397,\n",
       "  0.3256729245185852,\n",
       "  0.3252462148666382,\n",
       "  0.32476916909217834,\n",
       "  0.32493457198143005,\n",
       "  0.324624240398407,\n",
       "  0.3249852657318115,\n",
       "  0.32483211159706116,\n",
       "  0.3247631788253784,\n",
       "  0.3244229853153229,\n",
       "  0.3243657946586609,\n",
       "  0.32464268803596497,\n",
       "  0.3243177831172943,\n",
       "  0.3243413269519806,\n",
       "  0.3248830735683441,\n",
       "  0.3238276541233063,\n",
       "  0.323873907327652],\n",
       " 'accuracy': [0.7917187213897705,\n",
       "  0.7971875071525574,\n",
       "  0.7982812523841858,\n",
       "  0.8006250262260437,\n",
       "  0.8101562261581421,\n",
       "  0.8221874833106995,\n",
       "  0.8307812213897705,\n",
       "  0.8342187404632568,\n",
       "  0.8418750166893005,\n",
       "  0.8485937714576721,\n",
       "  0.8500000238418579,\n",
       "  0.8518750071525574,\n",
       "  0.85546875,\n",
       "  0.8551562428474426,\n",
       "  0.8564062714576721,\n",
       "  0.856249988079071,\n",
       "  0.858593761920929,\n",
       "  0.8584374785423279,\n",
       "  0.8584374785423279,\n",
       "  0.8606250286102295,\n",
       "  0.8590624928474426,\n",
       "  0.859375,\n",
       "  0.8606250286102295,\n",
       "  0.8607812523841858,\n",
       "  0.8620312213897705,\n",
       "  0.8623437285423279,\n",
       "  0.8606250286102295,\n",
       "  0.8621875047683716,\n",
       "  0.8614062666893005,\n",
       "  0.8620312213897705,\n",
       "  0.8637499809265137,\n",
       "  0.862500011920929,\n",
       "  0.8623437285423279,\n",
       "  0.8648437261581421,\n",
       "  0.8643749952316284,\n",
       "  0.8631250262260437,\n",
       "  0.8646875023841858,\n",
       "  0.8650000095367432,\n",
       "  0.8659374713897705,\n",
       "  0.8657812476158142,\n",
       "  0.8642187714576721,\n",
       "  0.864062488079071,\n",
       "  0.864062488079071,\n",
       "  0.8657812476158142,\n",
       "  0.8637499809265137,\n",
       "  0.8645312786102295,\n",
       "  0.8642187714576721,\n",
       "  0.8654687404632568,\n",
       "  0.8654687404632568,\n",
       "  0.864062488079071,\n",
       "  0.8650000095367432,\n",
       "  0.8645312786102295,\n",
       "  0.8659374713897705,\n",
       "  0.8662499785423279,\n",
       "  0.8654687404632568,\n",
       "  0.8654687404632568,\n",
       "  0.8662499785423279,\n",
       "  0.8657812476158142,\n",
       "  0.8654687404632568,\n",
       "  0.8659374713897705,\n",
       "  0.8653125166893005,\n",
       "  0.8657812476158142,\n",
       "  0.8657812476158142,\n",
       "  0.8676562309265137,\n",
       "  0.8651562333106995,\n",
       "  0.8673437237739563,\n",
       "  0.8667187690734863,\n",
       "  0.8667187690734863,\n",
       "  0.8668749928474426,\n",
       "  0.8653125166893005,\n",
       "  0.8662499785423279,\n",
       "  0.8667187690734863,\n",
       "  0.8653125166893005,\n",
       "  0.8667187690734863,\n",
       "  0.8657812476158142,\n",
       "  0.8665624856948853,\n",
       "  0.866406261920929,\n",
       "  0.8648437261581421,\n",
       "  0.8673437237739563,\n",
       "  0.8642187714576721,\n",
       "  0.8668749928474426,\n",
       "  0.8665624856948853,\n",
       "  0.8667187690734863,\n",
       "  0.8654687404632568,\n",
       "  0.8668749928474426,\n",
       "  0.8671875,\n",
       "  0.866406261920929,\n",
       "  0.867968738079071,\n",
       "  0.8659374713897705,\n",
       "  0.8676562309265137,\n",
       "  0.8646875023841858,\n",
       "  0.8667187690734863,\n",
       "  0.8689062595367432,\n",
       "  0.8671875,\n",
       "  0.8678125143051147,\n",
       "  0.8682812452316284,\n",
       "  0.8673437237739563,\n",
       "  0.8668749928474426,\n",
       "  0.8673437237739563,\n",
       "  0.8667187690734863],\n",
       " 'val_loss': [0.4714931845664978,\n",
       "  0.4545166492462158,\n",
       "  0.44533196091651917,\n",
       "  0.4374333620071411,\n",
       "  0.42993414402008057,\n",
       "  0.4212423264980316,\n",
       "  0.40884655714035034,\n",
       "  0.39466607570648193,\n",
       "  0.3779048025608063,\n",
       "  0.3691500127315521,\n",
       "  0.3624616265296936,\n",
       "  0.3589460253715515,\n",
       "  0.35531216859817505,\n",
       "  0.3532339930534363,\n",
       "  0.3522057831287384,\n",
       "  0.35309574007987976,\n",
       "  0.3516712486743927,\n",
       "  0.3512350916862488,\n",
       "  0.35192549228668213,\n",
       "  0.3522256016731262,\n",
       "  0.35022881627082825,\n",
       "  0.34972506761550903,\n",
       "  0.35116466879844666,\n",
       "  0.35140132904052734,\n",
       "  0.3503956198692322,\n",
       "  0.34931686520576477,\n",
       "  0.349670946598053,\n",
       "  0.34836316108703613,\n",
       "  0.3490588068962097,\n",
       "  0.34858590364456177,\n",
       "  0.3484054207801819,\n",
       "  0.3490939438343048,\n",
       "  0.34737712144851685,\n",
       "  0.3488062620162964,\n",
       "  0.3485475480556488,\n",
       "  0.348943829536438,\n",
       "  0.34850960969924927,\n",
       "  0.3480948209762573,\n",
       "  0.3485036790370941,\n",
       "  0.3471130430698395,\n",
       "  0.3478461503982544,\n",
       "  0.34762442111968994,\n",
       "  0.3487979471683502,\n",
       "  0.34760206937789917,\n",
       "  0.3477674126625061,\n",
       "  0.3468688726425171,\n",
       "  0.34767210483551025,\n",
       "  0.34812965989112854,\n",
       "  0.3461601138114929,\n",
       "  0.3469037115573883,\n",
       "  0.349020391702652,\n",
       "  0.34752821922302246,\n",
       "  0.3498363196849823,\n",
       "  0.3481491506099701,\n",
       "  0.34741443395614624,\n",
       "  0.34736958146095276,\n",
       "  0.34721705317497253,\n",
       "  0.3471928536891937,\n",
       "  0.34708869457244873,\n",
       "  0.3481033444404602,\n",
       "  0.3476661741733551,\n",
       "  0.3484817445278168,\n",
       "  0.34808918833732605,\n",
       "  0.34773391485214233,\n",
       "  0.3480314016342163,\n",
       "  0.34962067008018494,\n",
       "  0.3493403494358063,\n",
       "  0.349540114402771,\n",
       "  0.3474179208278656,\n",
       "  0.3475881516933441,\n",
       "  0.3492720425128937,\n",
       "  0.34672772884368896,\n",
       "  0.34984061121940613,\n",
       "  0.3475678563117981,\n",
       "  0.3466474413871765,\n",
       "  0.34758442640304565,\n",
       "  0.3478356897830963,\n",
       "  0.34756210446357727,\n",
       "  0.349534273147583,\n",
       "  0.34785717725753784,\n",
       "  0.34750980138778687,\n",
       "  0.34793564677238464,\n",
       "  0.3466672897338867,\n",
       "  0.3488613963127136,\n",
       "  0.3488316833972931,\n",
       "  0.3469088077545166,\n",
       "  0.3479675352573395,\n",
       "  0.34836524724960327,\n",
       "  0.3462975025177002,\n",
       "  0.34686973690986633,\n",
       "  0.35018980503082275,\n",
       "  0.3479691743850708,\n",
       "  0.3484170138835907,\n",
       "  0.34737876057624817,\n",
       "  0.3466133177280426,\n",
       "  0.3480764627456665,\n",
       "  0.3479236662387848,\n",
       "  0.34770479798316956,\n",
       "  0.34643203020095825,\n",
       "  0.34900519251823425],\n",
       " 'val_accuracy': [0.7975000143051147,\n",
       "  0.7975000143051147,\n",
       "  0.7975000143051147,\n",
       "  0.800000011920929,\n",
       "  0.8068749904632568,\n",
       "  0.8143749833106995,\n",
       "  0.8231250047683716,\n",
       "  0.8331249952316284,\n",
       "  0.8450000286102295,\n",
       "  0.8462499976158142,\n",
       "  0.8493750095367432,\n",
       "  0.84375,\n",
       "  0.8481249809265137,\n",
       "  0.8475000262260437,\n",
       "  0.8500000238418579,\n",
       "  0.8500000238418579,\n",
       "  0.8500000238418579,\n",
       "  0.8518750071525574,\n",
       "  0.8506249785423279,\n",
       "  0.8506249785423279,\n",
       "  0.8500000238418579,\n",
       "  0.8493750095367432,\n",
       "  0.8493750095367432,\n",
       "  0.8500000238418579,\n",
       "  0.8518750071525574,\n",
       "  0.8500000238418579,\n",
       "  0.8506249785423279,\n",
       "  0.8525000214576721,\n",
       "  0.8500000238418579,\n",
       "  0.8500000238418579,\n",
       "  0.8500000238418579,\n",
       "  0.8481249809265137,\n",
       "  0.8500000238418579,\n",
       "  0.8500000238418579,\n",
       "  0.8506249785423279,\n",
       "  0.8506249785423279,\n",
       "  0.8487499952316284,\n",
       "  0.8481249809265137,\n",
       "  0.8475000262260437,\n",
       "  0.8543750047683716,\n",
       "  0.8518750071525574,\n",
       "  0.8506249785423279,\n",
       "  0.8481249809265137,\n",
       "  0.8493750095367432,\n",
       "  0.8475000262260437,\n",
       "  0.8531249761581421,\n",
       "  0.8475000262260437,\n",
       "  0.8475000262260437,\n",
       "  0.8487499952316284,\n",
       "  0.8525000214576721,\n",
       "  0.8493750095367432,\n",
       "  0.8462499976158142,\n",
       "  0.8481249809265137,\n",
       "  0.8475000262260437,\n",
       "  0.8518750071525574,\n",
       "  0.8493750095367432,\n",
       "  0.8450000286102295,\n",
       "  0.8512499928474426,\n",
       "  0.8506249785423279,\n",
       "  0.8493750095367432,\n",
       "  0.8506249785423279,\n",
       "  0.8481249809265137,\n",
       "  0.8481249809265137,\n",
       "  0.8531249761581421,\n",
       "  0.8506249785423279,\n",
       "  0.8500000238418579,\n",
       "  0.8500000238418579,\n",
       "  0.8500000238418579,\n",
       "  0.8481249809265137,\n",
       "  0.8543750047683716,\n",
       "  0.8500000238418579,\n",
       "  0.8512499928474426,\n",
       "  0.8481249809265137,\n",
       "  0.8518750071525574,\n",
       "  0.8512499928474426,\n",
       "  0.8493750095367432,\n",
       "  0.8500000238418579,\n",
       "  0.8525000214576721,\n",
       "  0.846875011920929,\n",
       "  0.8443750143051147,\n",
       "  0.8506249785423279,\n",
       "  0.8506249785423279,\n",
       "  0.846875011920929,\n",
       "  0.8481249809265137,\n",
       "  0.8500000238418579,\n",
       "  0.8506249785423279,\n",
       "  0.8475000262260437,\n",
       "  0.8487499952316284,\n",
       "  0.8500000238418579,\n",
       "  0.8493750095367432,\n",
       "  0.8475000262260437,\n",
       "  0.8443750143051147,\n",
       "  0.846875011920929,\n",
       "  0.846875011920929,\n",
       "  0.8456249833106995,\n",
       "  0.8487499952316284,\n",
       "  0.8456249833106995,\n",
       "  0.846875011920929,\n",
       "  0.8487499952316284,\n",
       "  0.8487499952316284]}"
      ]
     },
     "execution_count": 32,
     "metadata": {},
     "output_type": "execute_result"
    }
   ],
   "source": [
    "history.history"
   ]
  },
  {
   "cell_type": "code",
   "execution_count": 33,
   "metadata": {},
   "outputs": [],
   "source": [
    "import matplotlib.pyplot as plt"
   ]
  },
  {
   "cell_type": "code",
   "execution_count": 34,
   "metadata": {},
   "outputs": [
    {
     "data": {
      "text/plain": [
       "[<matplotlib.lines.Line2D at 0x1ad1cb44710>]"
      ]
     },
     "execution_count": 34,
     "metadata": {},
     "output_type": "execute_result"
    },
    {
     "data": {
      "image/png": "[encoded data removed]",
      "text/plain": [
       "<Figure size 640x480 with 1 Axes>"
      ]
     },
     "metadata": {},
     "output_type": "display_data"
    }
   ],
   "source": [
    "plt.plot(history.history['loss'])\n",
    "plt.plot(history.history['val_loss'])"
   ]
  },
  {
   "cell_type": "markdown",
   "metadata": {},
   "source": [
    "the difference between lines indicates overfitting of data that means we can stop at point where they are same after that it leads to overfitting"
   ]
  },
  {
   "cell_type": "code",
   "execution_count": 35,
   "metadata": {},
   "outputs": [
    {
     "data": {
      "text/plain": [
       "[<matplotlib.lines.Line2D at 0x1ad1cbe5690>]"
      ]
     },
     "execution_count": 35,
     "metadata": {},
     "output_type": "execute_result"
    },
    {
     "data": {
      "image/png": "[encoded data removed]",
      "text/plain": [
       "<Figure size 640x480 with 1 Axes>"
      ]
     },
     "metadata": {},
     "output_type": "display_data"
    }
   ],
   "source": [
    "plt.plot(history.history['accuracy'])\n",
    "plt.plot(history.history['val_accuracy'])"
   ]
  },
  {
   "cell_type": "markdown",
   "metadata": {},
   "source": [
    "# MNIST CLASSIFICATION"
   ]
  },
  {
   "cell_type": "code",
   "execution_count": 36,
   "metadata": {},
   "outputs": [],
   "source": [
    "from tensorflow.keras.layers import Dense,Flatten"
   ]
  },
  {
   "cell_type": "code",
   "execution_count": 37,
   "metadata": {},
   "outputs": [],
   "source": [
    "(X_train,y_train),(X_test,y_test) = keras.datasets.mnist.load_data()"
   ]
  },
  {
   "cell_type": "code",
   "execution_count": 38,
   "metadata": {},
   "outputs": [
    {
     "data": {
      "text/plain": [
       "(60000, 28, 28)"
      ]
     },
     "execution_count": 38,
     "metadata": {},
     "output_type": "execute_result"
    }
   ],
   "source": [
    "X_train.shape\n",
    "# 60000 images of 28 X 28 pixels each"
   ]
  },
  {
   "cell_type": "code",
   "execution_count": 39,
   "metadata": {},
   "outputs": [
    {
     "data": {
      "text/plain": [
       "<matplotlib.image.AxesImage at 0x1ad1cb81490>"
      ]
     },
     "execution_count": 39,
     "metadata": {},
     "output_type": "execute_result"
    },
    {
     "data": {
      "image/png": "[encoded data removed]",
      "text/plain": [
       "<Figure size 640x480 with 1 Axes>"
      ]
     },
     "metadata": {},
     "output_type": "display_data"
    }
   ],
   "source": [
    "plt.imshow(X_train[0])"
   ]
  },
  {
   "cell_type": "code",
   "execution_count": 40,
   "metadata": {},
   "outputs": [],
   "source": [
    "X_train = X_train/255\n",
    "X_test = X_test/255\n",
    "# making the range shorter for easy calculation"
   ]
  },
  {
   "cell_type": "code",
   "execution_count": 41,
   "metadata": {},
   "outputs": [],
   "source": [
    "model = Sequential()"
   ]
  },
  {
   "cell_type": "code",
   "execution_count": 42,
   "metadata": {},
   "outputs": [],
   "source": [
    "model.add(Flatten(input_shape=(28,28))) # flattening array to 1d\n",
    "model.add(Dense(128,activation='relu'))\n",
    "model.add(Dense(10,activation='softmax'))   # using softmax (linear regression) "
   ]
  },
  {
   "cell_type": "code",
   "execution_count": 43,
   "metadata": {},
   "outputs": [
    {
     "name": "stdout",
     "output_type": "stream",
     "text": [
      "Model: \"sequential_2\"\n",
      "_________________________________________________________________\n",
      " Layer (type)                Output Shape              Param #   \n",
      "=================================================================\n",
      " flatten (Flatten)           (None, 784)               0         \n",
      "                                                                 \n",
      " dense_5 (Dense)             (None, 128)               100480    \n",
      "                                                                 \n",
      " dense_6 (Dense)             (None, 10)                1290      \n",
      "                                                                 \n",
      "=================================================================\n",
      "Total params: 101770 (397.54 KB)\n",
      "Trainable params: 101770 (397.54 KB)\n",
      "Non-trainable params: 0 (0.00 Byte)\n",
      "_________________________________________________________________\n"
     ]
    }
   ],
   "source": [
    "model.summary()"
   ]
  },
  {
   "cell_type": "code",
   "execution_count": 44,
   "metadata": {},
   "outputs": [],
   "source": [
    "model.compile(loss='sparse_categorical_crossentropy',optimizer='Adam')"
   ]
  },
  {
   "cell_type": "code",
   "execution_count": 45,
   "metadata": {},
   "outputs": [
    {
     "name": "stdout",
     "output_type": "stream",
     "text": [
      "Epoch 1/10\n",
      "1500/1500 [==============================] - 4s 2ms/step - loss: 0.2853 - val_loss: 0.1681\n",
      "Epoch 2/10\n",
      "1500/1500 [==============================] - 3s 2ms/step - loss: 0.1281 - val_loss: 0.1166\n",
      "Epoch 3/10\n",
      "1500/1500 [==============================] - 3s 2ms/step - loss: 0.0874 - val_loss: 0.1038\n",
      "Epoch 4/10\n",
      "1500/1500 [==============================] - 3s 2ms/step - loss: 0.0633 - val_loss: 0.0984\n",
      "Epoch 5/10\n",
      "1500/1500 [==============================] - 3s 2ms/step - loss: 0.0496 - val_loss: 0.0898\n",
      "Epoch 6/10\n",
      "1500/1500 [==============================] - 3s 2ms/step - loss: 0.0371 - val_loss: 0.0946\n",
      "Epoch 7/10\n",
      "1500/1500 [==============================] - 3s 2ms/step - loss: 0.0307 - val_loss: 0.0900\n",
      "Epoch 8/10\n",
      "1500/1500 [==============================] - 3s 2ms/step - loss: 0.0232 - val_loss: 0.0907\n",
      "Epoch 9/10\n",
      "1500/1500 [==============================] - 3s 2ms/step - loss: 0.0189 - val_loss: 0.1039\n",
      "Epoch 10/10\n",
      "1500/1500 [==============================] - 3s 2ms/step - loss: 0.0168 - val_loss: 0.0989\n"
     ]
    },
    {
     "data": {
      "text/plain": [
       "<keras.src.callbacks.History at 0x1ad1cd63e10>"
      ]
     },
     "execution_count": 45,
     "metadata": {},
     "output_type": "execute_result"
    }
   ],
   "source": [
    "model.fit(X_train,y_train,epochs=10,validation_split=0.2)"
   ]
  },
  {
   "cell_type": "code",
   "execution_count": 46,
   "metadata": {},
   "outputs": [
    {
     "name": "stdout",
     "output_type": "stream",
     "text": [
      "313/313 [==============================] - 0s 1ms/step\n"
     ]
    }
   ],
   "source": [
    "y_prob = model.predict(X_test)\n",
    "# it gives the probability of each image to be a certain integer"
   ]
  },
  {
   "cell_type": "code",
   "execution_count": 47,
   "metadata": {},
   "outputs": [
    {
     "data": {
      "text/plain": [
       "array([[1.86249849e-09, 7.19432514e-09, 8.10998060e-08, ...,\n",
       "        9.99929428e-01, 2.50072446e-07, 9.18734543e-07],\n",
       "       [2.64043908e-11, 1.92099719e-07, 9.99999762e-01, ...,\n",
       "        4.93720781e-18, 1.08130838e-09, 1.27606096e-15],\n",
       "       [7.72870681e-06, 9.99101877e-01, 5.33888640e-04, ...,\n",
       "        1.29479464e-04, 1.24438098e-04, 2.15785064e-07],\n",
       "       ...,\n",
       "       [1.64860869e-14, 4.16089689e-13, 4.41560525e-16, ...,\n",
       "        2.09859630e-10, 1.09741938e-09, 1.73597670e-07],\n",
       "       [1.20705897e-14, 1.41203501e-14, 3.10257316e-16, ...,\n",
       "        1.17078774e-14, 3.32679093e-07, 1.34468693e-15],\n",
       "       [3.59400747e-12, 9.12167713e-18, 3.56916883e-12, ...,\n",
       "        1.93201055e-16, 2.13979953e-14, 2.46186907e-15]], dtype=float32)"
      ]
     },
     "execution_count": 47,
     "metadata": {},
     "output_type": "execute_result"
    }
   ],
   "source": [
    "y_prob"
   ]
  },
  {
   "cell_type": "code",
   "execution_count": 48,
   "metadata": {},
   "outputs": [],
   "source": [
    "y_pred=y_prob.argmax(axis=1)\n",
    "# taking index at maximum value as result"
   ]
  },
  {
   "cell_type": "code",
   "execution_count": 49,
   "metadata": {},
   "outputs": [
    {
     "data": {
      "text/plain": [
       "array([7, 2, 1, ..., 4, 5, 6], dtype=int64)"
      ]
     },
     "execution_count": 49,
     "metadata": {},
     "output_type": "execute_result"
    }
   ],
   "source": [
    "y_pred"
   ]
  },
  {
   "cell_type": "code",
   "execution_count": 50,
   "metadata": {},
   "outputs": [
    {
     "data": {
      "text/plain": [
       "0.9761"
      ]
     },
     "execution_count": 50,
     "metadata": {},
     "output_type": "execute_result"
    }
   ],
   "source": [
    "from sklearn.metrics import accuracy_score\n",
    "accuracy_score(y_test,y_pred)"
   ]
  },
  {
   "cell_type": "markdown",
   "metadata": {},
   "source": [
    "# GRADUATE ADMISSION PREDICTION"
   ]
  },
  {
   "cell_type": "code",
   "execution_count": 51,
   "metadata": {},
   "outputs": [],
   "source": [
    "df = pd.read_csv('Admission_Predict_Ver1.1.csv')"
   ]
  },
  {
   "cell_type": "code",
   "execution_count": 52,
   "metadata": {},
   "outputs": [
    {
     "data": {
      "text/html": [
       "<div>\n",
       "<style scoped>\n",
       "    .dataframe tbody tr th:only-of-type {\n",
       "        vertical-align: middle;\n",
       "    }\n",
       "\n",
       "    .dataframe tbody tr th {\n",
       "        vertical-align: top;\n",
       "    }\n",
       "\n",
       "    .dataframe thead th {\n",
       "        text-align: right;\n",
       "    }\n",
       "</style>\n",
       "<table border=\"1\" class=\"dataframe\">\n",
       "  <thead>\n",
       "    <tr style=\"text-align: right;\">\n",
       "      <th></th>\n",
       "      <th>Serial No.</th>\n",
       "      <th>GRE Score</th>\n",
       "      <th>TOEFL Score</th>\n",
       "      <th>University Rating</th>\n",
       "      <th>SOP</th>\n",
       "      <th>LOR</th>\n",
       "      <th>CGPA</th>\n",
       "      <th>Research</th>\n",
       "      <th>Chance of Admit</th>\n",
       "    </tr>\n",
       "  </thead>\n",
       "  <tbody>\n",
       "    <tr>\n",
       "      <th>0</th>\n",
       "      <td>1</td>\n",
       "      <td>337</td>\n",
       "      <td>118</td>\n",
       "      <td>4</td>\n",
       "      <td>4.5</td>\n",
       "      <td>4.5</td>\n",
       "      <td>9.65</td>\n",
       "      <td>1</td>\n",
       "      <td>0.92</td>\n",
       "    </tr>\n",
       "    <tr>\n",
       "      <th>1</th>\n",
       "      <td>2</td>\n",
       "      <td>324</td>\n",
       "      <td>107</td>\n",
       "      <td>4</td>\n",
       "      <td>4.0</td>\n",
       "      <td>4.5</td>\n",
       "      <td>8.87</td>\n",
       "      <td>1</td>\n",
       "      <td>0.76</td>\n",
       "    </tr>\n",
       "    <tr>\n",
       "      <th>2</th>\n",
       "      <td>3</td>\n",
       "      <td>316</td>\n",
       "      <td>104</td>\n",
       "      <td>3</td>\n",
       "      <td>3.0</td>\n",
       "      <td>3.5</td>\n",
       "      <td>8.00</td>\n",
       "      <td>1</td>\n",
       "      <td>0.72</td>\n",
       "    </tr>\n",
       "    <tr>\n",
       "      <th>3</th>\n",
       "      <td>4</td>\n",
       "      <td>322</td>\n",
       "      <td>110</td>\n",
       "      <td>3</td>\n",
       "      <td>3.5</td>\n",
       "      <td>2.5</td>\n",
       "      <td>8.67</td>\n",
       "      <td>1</td>\n",
       "      <td>0.80</td>\n",
       "    </tr>\n",
       "    <tr>\n",
       "      <th>4</th>\n",
       "      <td>5</td>\n",
       "      <td>314</td>\n",
       "      <td>103</td>\n",
       "      <td>2</td>\n",
       "      <td>2.0</td>\n",
       "      <td>3.0</td>\n",
       "      <td>8.21</td>\n",
       "      <td>0</td>\n",
       "      <td>0.65</td>\n",
       "    </tr>\n",
       "  </tbody>\n",
       "</table>\n",
       "</div>"
      ],
      "text/plain": [
       "   Serial No.  GRE Score  TOEFL Score  University Rating  SOP  LOR   CGPA  \\\n",
       "0           1        337          118                  4  4.5   4.5  9.65   \n",
       "1           2        324          107                  4  4.0   4.5  8.87   \n",
       "2           3        316          104                  3  3.0   3.5  8.00   \n",
       "3           4        322          110                  3  3.5   2.5  8.67   \n",
       "4           5        314          103                  2  2.0   3.0  8.21   \n",
       "\n",
       "   Research  Chance of Admit   \n",
       "0         1              0.92  \n",
       "1         1              0.76  \n",
       "2         1              0.72  \n",
       "3         1              0.80  \n",
       "4         0              0.65  "
      ]
     },
     "execution_count": 52,
     "metadata": {},
     "output_type": "execute_result"
    }
   ],
   "source": [
    "df.head()"
   ]
  },
  {
   "cell_type": "code",
   "execution_count": 53,
   "metadata": {},
   "outputs": [],
   "source": [
    "df.drop(columns=['Serial No.'],inplace=True)"
   ]
  },
  {
   "cell_type": "code",
   "execution_count": 54,
   "metadata": {},
   "outputs": [
    {
     "data": {
      "text/html": [
       "<div>\n",
       "<style scoped>\n",
       "    .dataframe tbody tr th:only-of-type {\n",
       "        vertical-align: middle;\n",
       "    }\n",
       "\n",
       "    .dataframe tbody tr th {\n",
       "        vertical-align: top;\n",
       "    }\n",
       "\n",
       "    .dataframe thead th {\n",
       "        text-align: right;\n",
       "    }\n",
       "</style>\n",
       "<table border=\"1\" class=\"dataframe\">\n",
       "  <thead>\n",
       "    <tr style=\"text-align: right;\">\n",
       "      <th></th>\n",
       "      <th>GRE Score</th>\n",
       "      <th>TOEFL Score</th>\n",
       "      <th>University Rating</th>\n",
       "      <th>SOP</th>\n",
       "      <th>LOR</th>\n",
       "      <th>CGPA</th>\n",
       "      <th>Research</th>\n",
       "      <th>Chance of Admit</th>\n",
       "    </tr>\n",
       "  </thead>\n",
       "  <tbody>\n",
       "    <tr>\n",
       "      <th>0</th>\n",
       "      <td>337</td>\n",
       "      <td>118</td>\n",
       "      <td>4</td>\n",
       "      <td>4.5</td>\n",
       "      <td>4.5</td>\n",
       "      <td>9.65</td>\n",
       "      <td>1</td>\n",
       "      <td>0.92</td>\n",
       "    </tr>\n",
       "    <tr>\n",
       "      <th>1</th>\n",
       "      <td>324</td>\n",
       "      <td>107</td>\n",
       "      <td>4</td>\n",
       "      <td>4.0</td>\n",
       "      <td>4.5</td>\n",
       "      <td>8.87</td>\n",
       "      <td>1</td>\n",
       "      <td>0.76</td>\n",
       "    </tr>\n",
       "    <tr>\n",
       "      <th>2</th>\n",
       "      <td>316</td>\n",
       "      <td>104</td>\n",
       "      <td>3</td>\n",
       "      <td>3.0</td>\n",
       "      <td>3.5</td>\n",
       "      <td>8.00</td>\n",
       "      <td>1</td>\n",
       "      <td>0.72</td>\n",
       "    </tr>\n",
       "    <tr>\n",
       "      <th>3</th>\n",
       "      <td>322</td>\n",
       "      <td>110</td>\n",
       "      <td>3</td>\n",
       "      <td>3.5</td>\n",
       "      <td>2.5</td>\n",
       "      <td>8.67</td>\n",
       "      <td>1</td>\n",
       "      <td>0.80</td>\n",
       "    </tr>\n",
       "    <tr>\n",
       "      <th>4</th>\n",
       "      <td>314</td>\n",
       "      <td>103</td>\n",
       "      <td>2</td>\n",
       "      <td>2.0</td>\n",
       "      <td>3.0</td>\n",
       "      <td>8.21</td>\n",
       "      <td>0</td>\n",
       "      <td>0.65</td>\n",
       "    </tr>\n",
       "  </tbody>\n",
       "</table>\n",
       "</div>"
      ],
      "text/plain": [
       "   GRE Score  TOEFL Score  University Rating  SOP  LOR   CGPA  Research  \\\n",
       "0        337          118                  4  4.5   4.5  9.65         1   \n",
       "1        324          107                  4  4.0   4.5  8.87         1   \n",
       "2        316          104                  3  3.0   3.5  8.00         1   \n",
       "3        322          110                  3  3.5   2.5  8.67         1   \n",
       "4        314          103                  2  2.0   3.0  8.21         0   \n",
       "\n",
       "   Chance of Admit   \n",
       "0              0.92  \n",
       "1              0.76  \n",
       "2              0.72  \n",
       "3              0.80  \n",
       "4              0.65  "
      ]
     },
     "execution_count": 54,
     "metadata": {},
     "output_type": "execute_result"
    }
   ],
   "source": [
    "df.head()"
   ]
  },
  {
   "cell_type": "code",
   "execution_count": 55,
   "metadata": {},
   "outputs": [],
   "source": [
    "X=df.drop(columns=['Chance of Admit '])"
   ]
  },
  {
   "cell_type": "code",
   "execution_count": 56,
   "metadata": {},
   "outputs": [],
   "source": [
    "y=df['Chance of Admit ']"
   ]
  },
  {
   "cell_type": "code",
   "execution_count": 57,
   "metadata": {},
   "outputs": [],
   "source": [
    "from sklearn.model_selection import train_test_split"
   ]
  },
  {
   "cell_type": "code",
   "execution_count": 58,
   "metadata": {},
   "outputs": [],
   "source": [
    "X_train,X_test,y_train,y_test = train_test_split(X,y,test_size=0.2,random_state=1)"
   ]
  },
  {
   "cell_type": "code",
   "execution_count": 59,
   "metadata": {},
   "outputs": [],
   "source": [
    "from sklearn.preprocessing import MinMaxScaler\n",
    "scaler = MinMaxScaler()\n",
    "\n",
    "# we use minmax Scaler in case where we know upper and lower bounds\n",
    "\n",
    "X_train_scaled = scaler.fit_transform(X_train)\n",
    "X_test_scaled = scaler.transform(X_test)"
   ]
  },
  {
   "cell_type": "code",
   "execution_count": 60,
   "metadata": {},
   "outputs": [],
   "source": [
    "import tensorflow\n",
    "from tensorflow import keras\n",
    "from keras import Sequential\n",
    "from keras.layers import Dense"
   ]
  },
  {
   "cell_type": "code",
   "execution_count": 61,
   "metadata": {},
   "outputs": [],
   "source": [
    "model = Sequential()"
   ]
  },
  {
   "cell_type": "code",
   "execution_count": 62,
   "metadata": {},
   "outputs": [],
   "source": [
    "model.add(Dense(7,activation='relu',input_dim=7))\n",
    "model.add(Dense(7,activation='relu'))\n",
    "model.add(Dense(1,activation='linear'))"
   ]
  },
  {
   "cell_type": "code",
   "execution_count": 63,
   "metadata": {},
   "outputs": [
    {
     "name": "stdout",
     "output_type": "stream",
     "text": [
      "Model: \"sequential_3\"\n",
      "_________________________________________________________________\n",
      " Layer (type)                Output Shape              Param #   \n",
      "=================================================================\n",
      " dense_7 (Dense)             (None, 7)                 56        \n",
      "                                                                 \n",
      " dense_8 (Dense)             (None, 7)                 56        \n",
      "                                                                 \n",
      " dense_9 (Dense)             (None, 1)                 8         \n",
      "                                                                 \n",
      "=================================================================\n",
      "Total params: 120 (480.00 Byte)\n",
      "Trainable params: 120 (480.00 Byte)\n",
      "Non-trainable params: 0 (0.00 Byte)\n",
      "_________________________________________________________________\n"
     ]
    }
   ],
   "source": [
    "model.summary()"
   ]
  },
  {
   "cell_type": "code",
   "execution_count": 64,
   "metadata": {},
   "outputs": [],
   "source": [
    "model.compile(loss='mean_squared_error',optimizer='Adam')"
   ]
  },
  {
   "cell_type": "code",
   "execution_count": 65,
   "metadata": {},
   "outputs": [
    {
     "name": "stdout",
     "output_type": "stream",
     "text": [
      "Epoch 1/100\n"
     ]
    },
    {
     "name": "stdout",
     "output_type": "stream",
     "text": [
      "10/10 [==============================] - 1s 14ms/step - loss: 0.6337 - val_loss: 0.6266\n",
      "Epoch 2/100\n",
      "10/10 [==============================] - 0s 4ms/step - loss: 0.5336 - val_loss: 0.5281\n",
      "Epoch 3/100\n",
      "10/10 [==============================] - 0s 4ms/step - loss: 0.4488 - val_loss: 0.4526\n",
      "Epoch 4/100\n",
      "10/10 [==============================] - 0s 4ms/step - loss: 0.3860 - val_loss: 0.3959\n",
      "Epoch 5/100\n",
      "10/10 [==============================] - 0s 4ms/step - loss: 0.3389 - val_loss: 0.3522\n",
      "Epoch 6/100\n",
      "10/10 [==============================] - 0s 4ms/step - loss: 0.3006 - val_loss: 0.3110\n",
      "Epoch 7/100\n",
      "10/10 [==============================] - 0s 4ms/step - loss: 0.2620 - val_loss: 0.2703\n",
      "Epoch 8/100\n",
      "10/10 [==============================] - 0s 4ms/step - loss: 0.2241 - val_loss: 0.2296\n",
      "Epoch 9/100\n",
      "10/10 [==============================] - 0s 4ms/step - loss: 0.1868 - val_loss: 0.1901\n",
      "Epoch 10/100\n",
      "10/10 [==============================] - 0s 4ms/step - loss: 0.1516 - val_loss: 0.1521\n",
      "Epoch 11/100\n",
      "10/10 [==============================] - 0s 4ms/step - loss: 0.1187 - val_loss: 0.1168\n",
      "Epoch 12/100\n",
      "10/10 [==============================] - 0s 4ms/step - loss: 0.0886 - val_loss: 0.0849\n",
      "Epoch 13/100\n",
      "10/10 [==============================] - 0s 4ms/step - loss: 0.0618 - val_loss: 0.0561\n",
      "Epoch 14/100\n",
      "10/10 [==============================] - 0s 4ms/step - loss: 0.0382 - val_loss: 0.0323\n",
      "Epoch 15/100\n",
      "10/10 [==============================] - 0s 4ms/step - loss: 0.0211 - val_loss: 0.0173\n",
      "Epoch 16/100\n",
      "10/10 [==============================] - 0s 4ms/step - loss: 0.0122 - val_loss: 0.0102\n",
      "Epoch 17/100\n",
      "10/10 [==============================] - 0s 4ms/step - loss: 0.0085 - val_loss: 0.0078\n",
      "Epoch 18/100\n",
      "10/10 [==============================] - 0s 4ms/step - loss: 0.0078 - val_loss: 0.0071\n",
      "Epoch 19/100\n",
      "10/10 [==============================] - 0s 4ms/step - loss: 0.0077 - val_loss: 0.0069\n",
      "Epoch 20/100\n",
      "10/10 [==============================] - 0s 4ms/step - loss: 0.0077 - val_loss: 0.0069\n",
      "Epoch 21/100\n",
      "10/10 [==============================] - 0s 5ms/step - loss: 0.0076 - val_loss: 0.0069\n",
      "Epoch 22/100\n",
      "10/10 [==============================] - 0s 5ms/step - loss: 0.0076 - val_loss: 0.0070\n",
      "Epoch 23/100\n",
      "10/10 [==============================] - 0s 4ms/step - loss: 0.0075 - val_loss: 0.0070\n",
      "Epoch 24/100\n",
      "10/10 [==============================] - 0s 4ms/step - loss: 0.0075 - val_loss: 0.0070\n",
      "Epoch 25/100\n",
      "10/10 [==============================] - 0s 4ms/step - loss: 0.0074 - val_loss: 0.0069\n",
      "Epoch 26/100\n",
      "10/10 [==============================] - 0s 4ms/step - loss: 0.0074 - val_loss: 0.0069\n",
      "Epoch 27/100\n",
      "10/10 [==============================] - 0s 4ms/step - loss: 0.0073 - val_loss: 0.0068\n",
      "Epoch 28/100\n",
      "10/10 [==============================] - 0s 4ms/step - loss: 0.0073 - val_loss: 0.0068\n",
      "Epoch 29/100\n",
      "10/10 [==============================] - 0s 4ms/step - loss: 0.0073 - val_loss: 0.0068\n",
      "Epoch 30/100\n",
      "10/10 [==============================] - 0s 4ms/step - loss: 0.0072 - val_loss: 0.0068\n",
      "Epoch 31/100\n",
      "10/10 [==============================] - 0s 4ms/step - loss: 0.0072 - val_loss: 0.0067\n",
      "Epoch 32/100\n",
      "10/10 [==============================] - 0s 4ms/step - loss: 0.0071 - val_loss: 0.0067\n",
      "Epoch 33/100\n",
      "10/10 [==============================] - 0s 4ms/step - loss: 0.0071 - val_loss: 0.0067\n",
      "Epoch 34/100\n",
      "10/10 [==============================] - 0s 4ms/step - loss: 0.0071 - val_loss: 0.0066\n",
      "Epoch 35/100\n",
      "10/10 [==============================] - 0s 4ms/step - loss: 0.0070 - val_loss: 0.0066\n",
      "Epoch 36/100\n",
      "10/10 [==============================] - 0s 4ms/step - loss: 0.0070 - val_loss: 0.0065\n",
      "Epoch 37/100\n",
      "10/10 [==============================] - 0s 4ms/step - loss: 0.0070 - val_loss: 0.0065\n",
      "Epoch 38/100\n",
      "10/10 [==============================] - 0s 4ms/step - loss: 0.0069 - val_loss: 0.0065\n",
      "Epoch 39/100\n",
      "10/10 [==============================] - 0s 4ms/step - loss: 0.0069 - val_loss: 0.0064\n",
      "Epoch 40/100\n",
      "10/10 [==============================] - 0s 4ms/step - loss: 0.0069 - val_loss: 0.0064\n",
      "Epoch 41/100\n",
      "10/10 [==============================] - 0s 4ms/step - loss: 0.0068 - val_loss: 0.0064\n",
      "Epoch 42/100\n",
      "10/10 [==============================] - 0s 4ms/step - loss: 0.0068 - val_loss: 0.0064\n",
      "Epoch 43/100\n",
      "10/10 [==============================] - 0s 5ms/step - loss: 0.0068 - val_loss: 0.0063\n",
      "Epoch 44/100\n",
      "10/10 [==============================] - 0s 4ms/step - loss: 0.0068 - val_loss: 0.0063\n",
      "Epoch 45/100\n",
      "10/10 [==============================] - 0s 4ms/step - loss: 0.0067 - val_loss: 0.0062\n",
      "Epoch 46/100\n",
      "10/10 [==============================] - 0s 4ms/step - loss: 0.0067 - val_loss: 0.0062\n",
      "Epoch 47/100\n",
      "10/10 [==============================] - 0s 4ms/step - loss: 0.0067 - val_loss: 0.0062\n",
      "Epoch 48/100\n",
      "10/10 [==============================] - 0s 4ms/step - loss: 0.0066 - val_loss: 0.0061\n",
      "Epoch 49/100\n",
      "10/10 [==============================] - 0s 4ms/step - loss: 0.0066 - val_loss: 0.0061\n",
      "Epoch 50/100\n",
      "10/10 [==============================] - 0s 4ms/step - loss: 0.0066 - val_loss: 0.0061\n",
      "Epoch 51/100\n",
      "10/10 [==============================] - 0s 4ms/step - loss: 0.0066 - val_loss: 0.0061\n",
      "Epoch 52/100\n",
      "10/10 [==============================] - 0s 4ms/step - loss: 0.0065 - val_loss: 0.0060\n",
      "Epoch 53/100\n",
      "10/10 [==============================] - 0s 4ms/step - loss: 0.0065 - val_loss: 0.0060\n",
      "Epoch 54/100\n",
      "10/10 [==============================] - 0s 4ms/step - loss: 0.0065 - val_loss: 0.0060\n",
      "Epoch 55/100\n",
      "10/10 [==============================] - 0s 4ms/step - loss: 0.0065 - val_loss: 0.0060\n",
      "Epoch 56/100\n",
      "10/10 [==============================] - 0s 4ms/step - loss: 0.0064 - val_loss: 0.0059\n",
      "Epoch 57/100\n",
      "10/10 [==============================] - 0s 4ms/step - loss: 0.0064 - val_loss: 0.0059\n",
      "Epoch 58/100\n",
      "10/10 [==============================] - 0s 4ms/step - loss: 0.0064 - val_loss: 0.0059\n",
      "Epoch 59/100\n",
      "10/10 [==============================] - 0s 4ms/step - loss: 0.0064 - val_loss: 0.0059\n",
      "Epoch 60/100\n",
      "10/10 [==============================] - 0s 4ms/step - loss: 0.0063 - val_loss: 0.0059\n",
      "Epoch 61/100\n",
      "10/10 [==============================] - 0s 4ms/step - loss: 0.0063 - val_loss: 0.0058\n",
      "Epoch 62/100\n",
      "10/10 [==============================] - 0s 4ms/step - loss: 0.0063 - val_loss: 0.0058\n",
      "Epoch 63/100\n",
      "10/10 [==============================] - 0s 4ms/step - loss: 0.0063 - val_loss: 0.0057\n",
      "Epoch 64/100\n",
      "10/10 [==============================] - 0s 4ms/step - loss: 0.0062 - val_loss: 0.0057\n",
      "Epoch 65/100\n",
      "10/10 [==============================] - 0s 4ms/step - loss: 0.0062 - val_loss: 0.0057\n",
      "Epoch 66/100\n",
      "10/10 [==============================] - 0s 4ms/step - loss: 0.0062 - val_loss: 0.0057\n",
      "Epoch 67/100\n",
      "10/10 [==============================] - 0s 4ms/step - loss: 0.0062 - val_loss: 0.0057\n",
      "Epoch 68/100\n",
      "10/10 [==============================] - 0s 4ms/step - loss: 0.0062 - val_loss: 0.0056\n",
      "Epoch 69/100\n",
      "10/10 [==============================] - 0s 4ms/step - loss: 0.0061 - val_loss: 0.0056\n",
      "Epoch 70/100\n",
      "10/10 [==============================] - 0s 4ms/step - loss: 0.0061 - val_loss: 0.0056\n",
      "Epoch 71/100\n",
      "10/10 [==============================] - 0s 4ms/step - loss: 0.0061 - val_loss: 0.0056\n",
      "Epoch 72/100\n",
      "10/10 [==============================] - 0s 4ms/step - loss: 0.0061 - val_loss: 0.0055\n",
      "Epoch 73/100\n",
      "10/10 [==============================] - 0s 4ms/step - loss: 0.0060 - val_loss: 0.0055\n",
      "Epoch 74/100\n",
      "10/10 [==============================] - 0s 4ms/step - loss: 0.0060 - val_loss: 0.0055\n",
      "Epoch 75/100\n",
      "10/10 [==============================] - 0s 4ms/step - loss: 0.0060 - val_loss: 0.0055\n",
      "Epoch 76/100\n",
      "10/10 [==============================] - 0s 4ms/step - loss: 0.0060 - val_loss: 0.0054\n",
      "Epoch 77/100\n",
      "10/10 [==============================] - 0s 5ms/step - loss: 0.0059 - val_loss: 0.0055\n",
      "Epoch 78/100\n",
      "10/10 [==============================] - 0s 5ms/step - loss: 0.0059 - val_loss: 0.0055\n",
      "Epoch 79/100\n",
      "10/10 [==============================] - 0s 4ms/step - loss: 0.0059 - val_loss: 0.0054\n",
      "Epoch 80/100\n",
      "10/10 [==============================] - 0s 4ms/step - loss: 0.0059 - val_loss: 0.0053\n",
      "Epoch 81/100\n",
      "10/10 [==============================] - 0s 4ms/step - loss: 0.0059 - val_loss: 0.0053\n",
      "Epoch 82/100\n",
      "10/10 [==============================] - 0s 4ms/step - loss: 0.0059 - val_loss: 0.0053\n",
      "Epoch 83/100\n",
      "10/10 [==============================] - 0s 4ms/step - loss: 0.0058 - val_loss: 0.0053\n",
      "Epoch 84/100\n",
      "10/10 [==============================] - 0s 5ms/step - loss: 0.0058 - val_loss: 0.0053\n",
      "Epoch 85/100\n",
      "10/10 [==============================] - 0s 4ms/step - loss: 0.0058 - val_loss: 0.0052\n",
      "Epoch 86/100\n",
      "10/10 [==============================] - 0s 4ms/step - loss: 0.0058 - val_loss: 0.0052\n",
      "Epoch 87/100\n",
      "10/10 [==============================] - 0s 4ms/step - loss: 0.0058 - val_loss: 0.0053\n",
      "Epoch 88/100\n",
      "10/10 [==============================] - 0s 4ms/step - loss: 0.0058 - val_loss: 0.0053\n",
      "Epoch 89/100\n",
      "10/10 [==============================] - 0s 4ms/step - loss: 0.0057 - val_loss: 0.0051\n",
      "Epoch 90/100\n",
      "10/10 [==============================] - 0s 4ms/step - loss: 0.0057 - val_loss: 0.0051\n",
      "Epoch 91/100\n",
      "10/10 [==============================] - 0s 4ms/step - loss: 0.0057 - val_loss: 0.0052\n",
      "Epoch 92/100\n",
      "10/10 [==============================] - 0s 4ms/step - loss: 0.0057 - val_loss: 0.0052\n",
      "Epoch 93/100\n",
      "10/10 [==============================] - 0s 4ms/step - loss: 0.0057 - val_loss: 0.0050\n",
      "Epoch 94/100\n",
      "10/10 [==============================] - 0s 5ms/step - loss: 0.0056 - val_loss: 0.0051\n",
      "Epoch 95/100\n",
      "10/10 [==============================] - 0s 4ms/step - loss: 0.0056 - val_loss: 0.0051\n",
      "Epoch 96/100\n",
      "10/10 [==============================] - 0s 4ms/step - loss: 0.0056 - val_loss: 0.0051\n",
      "Epoch 97/100\n",
      "10/10 [==============================] - 0s 4ms/step - loss: 0.0056 - val_loss: 0.0050\n",
      "Epoch 98/100\n",
      "10/10 [==============================] - 0s 4ms/step - loss: 0.0056 - val_loss: 0.0051\n",
      "Epoch 99/100\n",
      "10/10 [==============================] - 0s 4ms/step - loss: 0.0056 - val_loss: 0.0050\n",
      "Epoch 100/100\n",
      "10/10 [==============================] - 0s 4ms/step - loss: 0.0056 - val_loss: 0.0049\n"
     ]
    }
   ],
   "source": [
    "history=model.fit(X_train_scaled,y_train,epochs=100,validation_split=0.2)"
   ]
  },
  {
   "cell_type": "code",
   "execution_count": 66,
   "metadata": {},
   "outputs": [
    {
     "name": "stdout",
     "output_type": "stream",
     "text": [
      "4/4 [==============================] - 0s 1ms/step\n"
     ]
    }
   ],
   "source": [
    "y_pred=model.predict(X_test_scaled)"
   ]
  },
  {
   "cell_type": "code",
   "execution_count": 67,
   "metadata": {},
   "outputs": [
    {
     "data": {
      "text/plain": [
       "0.7121189152380496"
      ]
     },
     "execution_count": 67,
     "metadata": {},
     "output_type": "execute_result"
    }
   ],
   "source": [
    "from sklearn.metrics import r2_score\n",
    "r2_score(y_test, y_pred)"
   ]
  },
  {
   "cell_type": "markdown",
   "metadata": {},
   "source": [
    "# BACKPROPAGATION REGRESSION"
   ]
  },
  {
   "cell_type": "code",
   "execution_count": 68,
   "metadata": {},
   "outputs": [],
   "source": [
    "df = pd.DataFrame([[8,8,4],[7,9,5],[6,10,6],[5,12,7]],columns=['cgpa','profile_score','lpa'])"
   ]
  },
  {
   "cell_type": "code",
   "execution_count": 69,
   "metadata": {},
   "outputs": [
    {
     "data": {
      "text/html": [
       "<div>\n",
       "<style scoped>\n",
       "    .dataframe tbody tr th:only-of-type {\n",
       "        vertical-align: middle;\n",
       "    }\n",
       "\n",
       "    .dataframe tbody tr th {\n",
       "        vertical-align: top;\n",
       "    }\n",
       "\n",
       "    .dataframe thead th {\n",
       "        text-align: right;\n",
       "    }\n",
       "</style>\n",
       "<table border=\"1\" class=\"dataframe\">\n",
       "  <thead>\n",
       "    <tr style=\"text-align: right;\">\n",
       "      <th></th>\n",
       "      <th>cgpa</th>\n",
       "      <th>profile_score</th>\n",
       "      <th>lpa</th>\n",
       "    </tr>\n",
       "  </thead>\n",
       "  <tbody>\n",
       "    <tr>\n",
       "      <th>0</th>\n",
       "      <td>8</td>\n",
       "      <td>8</td>\n",
       "      <td>4</td>\n",
       "    </tr>\n",
       "    <tr>\n",
       "      <th>1</th>\n",
       "      <td>7</td>\n",
       "      <td>9</td>\n",
       "      <td>5</td>\n",
       "    </tr>\n",
       "    <tr>\n",
       "      <th>2</th>\n",
       "      <td>6</td>\n",
       "      <td>10</td>\n",
       "      <td>6</td>\n",
       "    </tr>\n",
       "    <tr>\n",
       "      <th>3</th>\n",
       "      <td>5</td>\n",
       "      <td>12</td>\n",
       "      <td>7</td>\n",
       "    </tr>\n",
       "  </tbody>\n",
       "</table>\n",
       "</div>"
      ],
      "text/plain": [
       "   cgpa  profile_score  lpa\n",
       "0     8              8    4\n",
       "1     7              9    5\n",
       "2     6             10    6\n",
       "3     5             12    7"
      ]
     },
     "execution_count": 69,
     "metadata": {},
     "output_type": "execute_result"
    }
   ],
   "source": [
    "df"
   ]
  },
  {
   "cell_type": "markdown",
   "metadata": {},
   "source": [
    "## using self "
   ]
  },
  {
   "cell_type": "code",
   "execution_count": 70,
   "metadata": {},
   "outputs": [],
   "source": [
    "def initialize_parameters(layer_dims):\n",
    "  \n",
    "  np.random.seed(3)\n",
    "  parameters = {}\n",
    "  L = len(layer_dims)         \n",
    "\n",
    "  for l in range(1, L):\n",
    "\n",
    "    parameters['W' + str(l)] = np.ones((layer_dims[l-1], layer_dims[l]))*0.1\n",
    "    parameters['b' + str(l)] = np.zeros((layer_dims[l], 1))\n",
    "      \n",
    "\n",
    "  return parameters"
   ]
  },
  {
   "cell_type": "code",
   "execution_count": 71,
   "metadata": {},
   "outputs": [
    {
     "data": {
      "text/plain": [
       "{'W1': array([[0.1, 0.1],\n",
       "        [0.1, 0.1]]),\n",
       " 'b1': array([[0.],\n",
       "        [0.]]),\n",
       " 'W2': array([[0.1],\n",
       "        [0.1]]),\n",
       " 'b2': array([[0.]])}"
      ]
     },
     "execution_count": 71,
     "metadata": {},
     "output_type": "execute_result"
    }
   ],
   "source": [
    "initialize_parameters([2,2,1])"
   ]
  },
  {
   "cell_type": "code",
   "execution_count": 72,
   "metadata": {},
   "outputs": [],
   "source": [
    "def linear_forward(A_prev,W,b):\n",
    "    Z=np.dot(W.T,A_prev)+b\n",
    "    return Z"
   ]
  },
  {
   "cell_type": "code",
   "execution_count": 103,
   "metadata": {},
   "outputs": [],
   "source": [
    "# Forward Prop\n",
    "def L_layer_forward(X, parameters):\n",
    "\n",
    "  A = X\n",
    "  L = len(parameters) // 2                  # number of layers in the neural network\n",
    "  \n",
    "  for l in range(1, L+1):\n",
    "    A_prev = A \n",
    "    Wl = parameters['W' + str(l)]\n",
    "    bl = parameters['b' + str(l)]\n",
    "    # print(\"A\"+str(l-1)+\": \", A_prev)\n",
    "    # print(\"W\"+str(l)+\": \", Wl)\n",
    "    # print(\"b\"+str(l)+\": \", bl)\n",
    "    # print(\"--\"*20)\n",
    "\n",
    "    A = linear_forward(A_prev, Wl, bl)\n",
    "    # print(\"A\"+str(l)+\": \", A)\n",
    "    # print(\"**\"*20)\n",
    "          \n",
    "  return A,A_prev"
   ]
  },
  {
   "cell_type": "code",
   "execution_count": 104,
   "metadata": {},
   "outputs": [],
   "source": [
    "X=df[['cgpa','profile_score']].values[0].reshape(2,1)\n",
    "y=df[['lpa']].values[0][0]\n",
    "\n",
    "parameters = initialize_parameters([2,2,1])\n",
    "y_hat,A1 = L_layer_forward(X,parameters)\n"
   ]
  },
  {
   "cell_type": "code",
   "execution_count": 105,
   "metadata": {},
   "outputs": [],
   "source": [
    "y_hat=y_hat[0][0]"
   ]
  },
  {
   "cell_type": "code",
   "execution_count": 106,
   "metadata": {},
   "outputs": [],
   "source": [
    "def update_parameters(parameters,y,y_hat,A1,X):\n",
    "  parameters['W2'][0][0] = parameters['W2'][0][0] + (0.001 * 2 * (y - y_hat)*A1[0][0])\n",
    "  parameters['W2'][1][0] = parameters['W2'][1][0] + (0.001 * 2 * (y - y_hat)*A1[1][0])\n",
    "  parameters['b2'][0][0] = parameters['W2'][1][0] + (0.001 * 2 * (y - y_hat))\n",
    "\n",
    "  parameters['W1'][0][0] = parameters['W1'][0][0] + (0.001 * 2 * (y - y_hat)*parameters['W2'][0][0]*X[0][0])\n",
    "  parameters['W1'][0][1] = parameters['W1'][0][1] + (0.001 * 2 * (y - y_hat)*parameters['W2'][0][0]*X[1][0])\n",
    "  parameters['b1'][0][0] = parameters['b1'][0][0] + (0.001 * 2 * (y - y_hat)*parameters['W2'][0][0])\n",
    "\n",
    "  parameters['W1'][1][0] = parameters['W1'][1][0] + (0.001 * 2 * (y - y_hat)*parameters['W2'][1][0]*X[0][0])\n",
    "  parameters['W1'][1][1] = parameters['W1'][1][1] + (0.001 * 2 * (y - y_hat)*parameters['W2'][1][0]*X[1][0])\n",
    "  parameters['b1'][1][0] = parameters['b1'][1][0] + (0.001 * 2 * (y - y_hat)*parameters['W2'][1][0])"
   ]
  },
  {
   "cell_type": "code",
   "execution_count": 107,
   "metadata": {},
   "outputs": [],
   "source": [
    "update_parameters(parameters,y,y_hat,A1,X)"
   ]
  },
  {
   "cell_type": "code",
   "execution_count": 108,
   "metadata": {},
   "outputs": [
    {
     "data": {
      "text/plain": [
       "{'W1': array([[0.10658137, 0.10658137],\n",
       "        [0.10658137, 0.10658137]]),\n",
       " 'b1': array([[0.00082267],\n",
       "        [0.00082267]]),\n",
       " 'W2': array([[0.111776],\n",
       "        [0.111776]]),\n",
       " 'b2': array([[0.119136]])}"
      ]
     },
     "execution_count": 108,
     "metadata": {},
     "output_type": "execute_result"
    }
   ],
   "source": [
    "parameters"
   ]
  },
  {
   "cell_type": "code",
   "execution_count": 109,
   "metadata": {},
   "outputs": [],
   "source": [
    "X=df[['cgpa','profile_score']].values[3].reshape(2,1)\n",
    "y=df[['lpa']].values[3][0]\n",
    "\n",
    "y_hat,A1 = L_layer_forward(X,parameters)\n"
   ]
  },
  {
   "cell_type": "code",
   "execution_count": 110,
   "metadata": {},
   "outputs": [],
   "source": [
    "update_parameters(parameters,y,y_hat,A1,X)"
   ]
  },
  {
   "cell_type": "code",
   "execution_count": 111,
   "metadata": {},
   "outputs": [
    {
     "data": {
      "text/plain": [
       "{'W1': array([[0.11533984, 0.1276017 ],\n",
       "        [0.11533984, 0.1276017 ]]),\n",
       " 'b1': array([[0.00257437],\n",
       "        [0.00257437]]),\n",
       " 'W2': array([[0.13525283],\n",
       "        [0.13525283]]),\n",
       " 'b2': array([[0.14820409]])}"
      ]
     },
     "execution_count": 111,
     "metadata": {},
     "output_type": "execute_result"
    }
   ],
   "source": [
    "parameters"
   ]
  },
  {
   "cell_type": "code",
   "execution_count": 112,
   "metadata": {},
   "outputs": [
    {
     "name": "stdout",
     "output_type": "stream",
     "text": [
      "Epoch -  1 Loss -  25.321744156025517\n",
      "Epoch -  2 Loss -  18.320004165722047\n",
      "Epoch -  3 Loss -  9.473661050729628\n",
      "Epoch -  4 Loss -  3.2520938634031613\n",
      "Epoch -  5 Loss -  1.3407132589299962\n"
     ]
    },
    {
     "data": {
      "text/plain": [
       "{'W1': array([[0.26507636, 0.38558861],\n",
       "        [0.27800387, 0.40980287]]),\n",
       " 'b1': array([[0.02749056],\n",
       "        [0.02974394]]),\n",
       " 'W2': array([[0.41165744],\n",
       "        [0.48302736]]),\n",
       " 'b2': array([[0.48646246]])}"
      ]
     },
     "execution_count": 112,
     "metadata": {},
     "output_type": "execute_result"
    }
   ],
   "source": [
    "parameters = initialize_parameters([2,2,1])\n",
    "epochs = 5\n",
    "for i in range(epochs):\n",
    "    Loss = []\n",
    "    for j in range(df.shape[0]):\n",
    "        X = df[['cgpa', 'profile_score']].values[j].reshape(2,1) # Shape(no of features, no. of training example)\n",
    "        y = df[['lpa']].values[j][0]\n",
    "\n",
    "        y_hat,A1 = L_layer_forward(X,parameters)\n",
    "        y_hat = y_hat[0][0]\n",
    "\n",
    "        update_parameters(parameters,y,y_hat,A1,X)\n",
    "\n",
    "        Loss.append((y-y_hat)**2)\n",
    "\n",
    "    print('Epoch - ',i+1,'Loss - ',np.array(Loss).mean())\n",
    "parameters"
   ]
  },
  {
   "cell_type": "markdown",
   "metadata": {},
   "source": [
    "## using keras"
   ]
  },
  {
   "cell_type": "code",
   "execution_count": 113,
   "metadata": {},
   "outputs": [],
   "source": [
    "model = Sequential()"
   ]
  },
  {
   "cell_type": "code",
   "execution_count": 114,
   "metadata": {},
   "outputs": [],
   "source": [
    "model.add(Dense(2,activation='linear',input_dim=2))\n",
    "model.add(Dense(1,activation='linear'))"
   ]
  },
  {
   "cell_type": "code",
   "execution_count": 115,
   "metadata": {},
   "outputs": [
    {
     "name": "stdout",
     "output_type": "stream",
     "text": [
      "Model: \"sequential_4\"\n",
      "_________________________________________________________________\n",
      " Layer (type)                Output Shape              Param #   \n",
      "=================================================================\n",
      " dense_10 (Dense)            (None, 2)                 6         \n",
      "                                                                 \n",
      " dense_11 (Dense)            (None, 1)                 3         \n",
      "                                                                 \n",
      "=================================================================\n",
      "Total params: 9 (36.00 Byte)\n",
      "Trainable params: 9 (36.00 Byte)\n",
      "Non-trainable params: 0 (0.00 Byte)\n",
      "_________________________________________________________________\n"
     ]
    }
   ],
   "source": [
    "model.summary()"
   ]
  },
  {
   "cell_type": "code",
   "execution_count": 116,
   "metadata": {},
   "outputs": [
    {
     "data": {
      "text/plain": [
       "[array([[-0.6239387,  0.6017039],\n",
       "        [ 0.6801791, -1.2242254]], dtype=float32),\n",
       " array([0., 0.], dtype=float32),\n",
       " array([[1.1566714],\n",
       "        [0.7407497]], dtype=float32),\n",
       " array([0.], dtype=float32)]"
      ]
     },
     "execution_count": 116,
     "metadata": {},
     "output_type": "execute_result"
    }
   ],
   "source": [
    "model.get_weights()"
   ]
  },
  {
   "cell_type": "code",
   "execution_count": 117,
   "metadata": {},
   "outputs": [],
   "source": [
    "new_weights=[np.array([[0.1,  0.1],\n",
    "        [ 0.1, 0.1]], dtype=np.float32),\n",
    " np.array([0., 0.], dtype=np.float32),\n",
    " np.array([[0.1],\n",
    "        [0.1]], dtype=np.float32),\n",
    " np.array([0.], dtype=np.float32)]"
   ]
  },
  {
   "cell_type": "code",
   "execution_count": 118,
   "metadata": {},
   "outputs": [],
   "source": [
    "model.set_weights(new_weights)"
   ]
  },
  {
   "cell_type": "code",
   "execution_count": 119,
   "metadata": {},
   "outputs": [
    {
     "data": {
      "text/plain": [
       "[array([[0.1, 0.1],\n",
       "        [0.1, 0.1]], dtype=float32),\n",
       " array([0., 0.], dtype=float32),\n",
       " array([[0.1],\n",
       "        [0.1]], dtype=float32),\n",
       " array([0.], dtype=float32)]"
      ]
     },
     "execution_count": 119,
     "metadata": {},
     "output_type": "execute_result"
    }
   ],
   "source": [
    "model.get_weights()"
   ]
  },
  {
   "cell_type": "code",
   "execution_count": 120,
   "metadata": {},
   "outputs": [],
   "source": [
    "optimizer = keras.optimizers.Adam(learning_rate=0.001)\n",
    "model.compile(loss='mean_squared_error', optimizer=optimizer)"
   ]
  },
  {
   "cell_type": "code",
   "execution_count": 121,
   "metadata": {},
   "outputs": [
    {
     "name": "stdout",
     "output_type": "stream",
     "text": [
      "Epoch 1/75\n",
      "4/4 [==============================] - 0s 3ms/step - loss: 27.9037\n",
      "Epoch 2/75\n",
      "4/4 [==============================] - 0s 2ms/step - loss: 27.5923\n",
      "Epoch 3/75\n",
      "4/4 [==============================] - 0s 1ms/step - loss: 27.2610\n",
      "Epoch 4/75\n",
      "4/4 [==============================] - 0s 2ms/step - loss: 26.9118\n",
      "Epoch 5/75\n",
      "4/4 [==============================] - 0s 2ms/step - loss: 26.5622\n",
      "Epoch 6/75\n",
      "4/4 [==============================] - 0s 2ms/step - loss: 26.2032\n",
      "Epoch 7/75\n",
      "4/4 [==============================] - 0s 2ms/step - loss: 25.8328\n",
      "Epoch 8/75\n",
      "4/4 [==============================] - 0s 2ms/step - loss: 25.4574\n",
      "Epoch 9/75\n",
      "4/4 [==============================] - 0s 2ms/step - loss: 25.0702\n",
      "Epoch 10/75\n",
      "4/4 [==============================] - 0s 2ms/step - loss: 24.6770\n",
      "Epoch 11/75\n",
      "4/4 [==============================] - 0s 1ms/step - loss: 24.2651\n",
      "Epoch 12/75\n",
      "4/4 [==============================] - 0s 2ms/step - loss: 23.8336\n",
      "Epoch 13/75\n",
      "4/4 [==============================] - 0s 2ms/step - loss: 23.3740\n",
      "Epoch 14/75\n",
      "4/4 [==============================] - 0s 1ms/step - loss: 22.9237\n",
      "Epoch 15/75\n",
      "4/4 [==============================] - 0s 2ms/step - loss: 22.5084\n",
      "Epoch 16/75\n",
      "4/4 [==============================] - 0s 2ms/step - loss: 22.0500\n",
      "Epoch 17/75\n",
      "4/4 [==============================] - 0s 2ms/step - loss: 21.5239\n",
      "Epoch 18/75\n",
      "4/4 [==============================] - 0s 2ms/step - loss: 21.0869\n",
      "Epoch 19/75\n",
      "4/4 [==============================] - 0s 2ms/step - loss: 20.5941\n",
      "Epoch 20/75\n",
      "4/4 [==============================] - 0s 2ms/step - loss: 20.0770\n",
      "Epoch 21/75\n",
      "4/4 [==============================] - 0s 1ms/step - loss: 19.5696\n",
      "Epoch 22/75\n",
      "4/4 [==============================] - 0s 2ms/step - loss: 19.0767\n",
      "Epoch 23/75\n",
      "4/4 [==============================] - 0s 2ms/step - loss: 18.5814\n",
      "Epoch 24/75\n",
      "4/4 [==============================] - 0s 2ms/step - loss: 18.0523\n",
      "Epoch 25/75\n",
      "4/4 [==============================] - 0s 1ms/step - loss: 17.5278\n",
      "Epoch 26/75\n",
      "4/4 [==============================] - 0s 1ms/step - loss: 17.0188\n",
      "Epoch 27/75\n",
      "4/4 [==============================] - 0s 2ms/step - loss: 16.4481\n",
      "Epoch 28/75\n",
      "4/4 [==============================] - 0s 2ms/step - loss: 15.9259\n",
      "Epoch 29/75\n",
      "4/4 [==============================] - 0s 2ms/step - loss: 15.4243\n",
      "Epoch 30/75\n",
      "4/4 [==============================] - 0s 2ms/step - loss: 14.9369\n",
      "Epoch 31/75\n",
      "4/4 [==============================] - 0s 2ms/step - loss: 14.3797\n",
      "Epoch 32/75\n",
      "4/4 [==============================] - 0s 2ms/step - loss: 13.8643\n",
      "Epoch 33/75\n",
      "4/4 [==============================] - 0s 2ms/step - loss: 13.3050\n",
      "Epoch 34/75\n",
      "4/4 [==============================] - 0s 2ms/step - loss: 12.7885\n",
      "Epoch 35/75\n",
      "4/4 [==============================] - 0s 2ms/step - loss: 12.3400\n",
      "Epoch 36/75\n",
      "4/4 [==============================] - 0s 2ms/step - loss: 11.8486\n",
      "Epoch 37/75\n",
      "4/4 [==============================] - 0s 1ms/step - loss: 11.3282\n",
      "Epoch 38/75\n",
      "4/4 [==============================] - 0s 1ms/step - loss: 10.8669\n",
      "Epoch 39/75\n",
      "4/4 [==============================] - 0s 2ms/step - loss: 10.3488\n",
      "Epoch 40/75\n",
      "4/4 [==============================] - 0s 2ms/step - loss: 9.8839\n",
      "Epoch 41/75\n",
      "4/4 [==============================] - 0s 2ms/step - loss: 9.4163\n",
      "Epoch 42/75\n",
      "4/4 [==============================] - 0s 2ms/step - loss: 8.9905\n",
      "Epoch 43/75\n",
      "4/4 [==============================] - 0s 2ms/step - loss: 8.5056\n",
      "Epoch 44/75\n",
      "4/4 [==============================] - 0s 2ms/step - loss: 8.1171\n",
      "Epoch 45/75\n",
      "4/4 [==============================] - 0s 2ms/step - loss: 7.7601\n",
      "Epoch 46/75\n",
      "4/4 [==============================] - 0s 2ms/step - loss: 7.2824\n",
      "Epoch 47/75\n",
      "4/4 [==============================] - 0s 2ms/step - loss: 6.9311\n",
      "Epoch 48/75\n",
      "4/4 [==============================] - 0s 2ms/step - loss: 6.5503\n",
      "Epoch 49/75\n",
      "4/4 [==============================] - 0s 2ms/step - loss: 6.1784\n",
      "Epoch 50/75\n",
      "4/4 [==============================] - 0s 2ms/step - loss: 5.8404\n",
      "Epoch 51/75\n",
      "4/4 [==============================] - 0s 2ms/step - loss: 5.5293\n",
      "Epoch 52/75\n",
      "4/4 [==============================] - 0s 2ms/step - loss: 5.2600\n",
      "Epoch 53/75\n",
      "4/4 [==============================] - 0s 2ms/step - loss: 4.9266\n",
      "Epoch 54/75\n",
      "4/4 [==============================] - 0s 2ms/step - loss: 4.6548\n",
      "Epoch 55/75\n",
      "4/4 [==============================] - 0s 2ms/step - loss: 4.3435\n",
      "Epoch 56/75\n",
      "4/4 [==============================] - 0s 2ms/step - loss: 4.0588\n",
      "Epoch 57/75\n",
      "4/4 [==============================] - 0s 2ms/step - loss: 3.8298\n",
      "Epoch 58/75\n",
      "4/4 [==============================] - 0s 3ms/step - loss: 3.6572\n",
      "Epoch 59/75\n",
      "4/4 [==============================] - 0s 2ms/step - loss: 3.4349\n",
      "Epoch 60/75\n",
      "4/4 [==============================] - 0s 2ms/step - loss: 3.2123\n",
      "Epoch 61/75\n",
      "4/4 [==============================] - 0s 2ms/step - loss: 3.0521\n",
      "Epoch 62/75\n",
      "4/4 [==============================] - 0s 3ms/step - loss: 2.8684\n",
      "Epoch 63/75\n",
      "4/4 [==============================] - 0s 2ms/step - loss: 2.7006\n",
      "Epoch 64/75\n",
      "4/4 [==============================] - 0s 2ms/step - loss: 2.5404\n",
      "Epoch 65/75\n",
      "4/4 [==============================] - 0s 2ms/step - loss: 2.3781\n",
      "Epoch 66/75\n",
      "4/4 [==============================] - 0s 2ms/step - loss: 2.2551\n",
      "Epoch 67/75\n",
      "4/4 [==============================] - 0s 2ms/step - loss: 2.1692\n",
      "Epoch 68/75\n",
      "4/4 [==============================] - 0s 1ms/step - loss: 2.0413\n",
      "Epoch 69/75\n",
      "4/4 [==============================] - 0s 1ms/step - loss: 1.9226\n",
      "Epoch 70/75\n",
      "4/4 [==============================] - 0s 2ms/step - loss: 1.8285\n",
      "Epoch 71/75\n",
      "4/4 [==============================] - 0s 2ms/step - loss: 1.7589\n",
      "Epoch 72/75\n",
      "4/4 [==============================] - 0s 3ms/step - loss: 1.7146\n",
      "Epoch 73/75\n",
      "4/4 [==============================] - 0s 2ms/step - loss: 1.6071\n",
      "Epoch 74/75\n",
      "4/4 [==============================] - 0s 2ms/step - loss: 1.5521\n",
      "Epoch 75/75\n",
      "4/4 [==============================] - 0s 2ms/step - loss: 1.5186\n"
     ]
    },
    {
     "data": {
      "text/plain": [
       "<keras.src.callbacks.History at 0x1ad2031b950>"
      ]
     },
     "execution_count": 121,
     "metadata": {},
     "output_type": "execute_result"
    }
   ],
   "source": [
    "model.fit(df.iloc[:,0:-1].values,df['lpa'].values,epochs=75,verbose=1,batch_size=1)"
   ]
  },
  {
   "cell_type": "code",
   "execution_count": 122,
   "metadata": {},
   "outputs": [
    {
     "data": {
      "text/plain": [
       "[array([[0.37374568, 0.37374568],\n",
       "        [0.3656112 , 0.3656112 ]], dtype=float32),\n",
       " array([0.2723725, 0.2723725], dtype=float32),\n",
       " array([[0.3729667],\n",
       "        [0.3729667]], dtype=float32),\n",
       " array([0.2047183], dtype=float32)]"
      ]
     },
     "execution_count": 122,
     "metadata": {},
     "output_type": "execute_result"
    }
   ],
   "source": [
    "model.get_weights()"
   ]
  },
  {
   "cell_type": "code",
   "execution_count": null,
   "metadata": {},
   "outputs": [],
   "source": []
  }
 ],
 "metadata": {
  "kernelspec": {
   "display_name": "base",
   "language": "python",
   "name": "python3"
  },
  "language_info": {
   "codemirror_mode": {
    "name": "ipython",
    "version": 3
   },
   "file_extension": ".py",
   "mimetype": "text/x-python",
   "name": "python",
   "nbconvert_exporter": "python",
   "pygments_lexer": "ipython3",
   "version": "3.11.4"
  },
  "orig_nbformat": 4
 },
 "nbformat": 4,
 "nbformat_minor": 2
}
