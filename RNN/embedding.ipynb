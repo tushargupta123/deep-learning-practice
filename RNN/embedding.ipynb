{
  "nbformat": 4,
  "nbformat_minor": 0,
  "metadata": {
    "colab": {
      "provenance": [],
      "gpuType": "T4",
      "authorship_tag": "ABX9TyPhJd9dj2krRUqJw7HAw/c6",
      "include_colab_link": true
    },
    "kernelspec": {
      "name": "python3",
      "display_name": "Python 3"
    },
    "language_info": {
      "name": "python"
    },
    "accelerator": "GPU"
  },
  "cells": [
    {
      "cell_type": "markdown",
      "metadata": {
        "id": "view-in-github",
        "colab_type": "text"
      },
      "source": [
        "<a href=\"https://colab.research.google.com/github/tushargupta123/deep-learning-practice/blob/main/embedding.ipynb\" target=\"_parent\"><img src=\"https://colab.research.google.com/assets/colab-badge.svg\" alt=\"Open In Colab\"/></a>"
      ]
    },
    {
      "cell_type": "code",
      "execution_count": 59,
      "metadata": {
        "id": "YeQxTgmelLhN"
      },
      "outputs": [],
      "source": [
        "docs = ['go india',\n",
        "\t\t'india india',\n",
        "\t\t'hip hip hurray',\n",
        "\t\t'jeetega bhai jeetega india jeetega',\n",
        "\t\t'bharat mata ki jai',\n",
        "\t\t'kohli kohli',\n",
        "\t\t'sachin sachin',\n",
        "\t\t'dhoni dhoni',\n",
        "\t\t'modi ji ki jai',\n",
        "\t\t'inquilab zindabad']"
      ]
    },
    {
      "cell_type": "code",
      "source": [
        "from keras.preprocessing.text import Tokenizer\n",
        "tokenizer = Tokenizer(oov_token='nothing')\n",
        "# we are tokenizing or converting to words to unique integers\n",
        "# here oov_token represents  if we add new text in this and which is not yet tokenized then we will replace it with this word and handle it like this"
      ],
      "metadata": {
        "id": "Bag4gn_zlTQc"
      },
      "execution_count": 60,
      "outputs": []
    },
    {
      "cell_type": "code",
      "source": [
        "tokenizer.fit_on_texts(docs)"
      ],
      "metadata": {
        "id": "6sdXVslamKaQ"
      },
      "execution_count": 61,
      "outputs": []
    },
    {
      "cell_type": "code",
      "source": [
        "tokenizer.word_index"
      ],
      "metadata": {
        "colab": {
          "base_uri": "https://localhost:8080/"
        },
        "id": "gNaAkMWgmQxu",
        "outputId": "08205546-a72b-4517-b8f1-e0df2d5e8166"
      },
      "execution_count": 62,
      "outputs": [
        {
          "output_type": "execute_result",
          "data": {
            "text/plain": [
              "{'nothing': 1,\n",
              " 'india': 2,\n",
              " 'jeetega': 3,\n",
              " 'hip': 4,\n",
              " 'ki': 5,\n",
              " 'jai': 6,\n",
              " 'kohli': 7,\n",
              " 'sachin': 8,\n",
              " 'dhoni': 9,\n",
              " 'go': 10,\n",
              " 'hurray': 11,\n",
              " 'bhai': 12,\n",
              " 'bharat': 13,\n",
              " 'mata': 14,\n",
              " 'modi': 15,\n",
              " 'ji': 16,\n",
              " 'inquilab': 17,\n",
              " 'zindabad': 18}"
            ]
          },
          "metadata": {},
          "execution_count": 62
        }
      ]
    },
    {
      "cell_type": "code",
      "source": [
        "len(tokenizer.word_index)"
      ],
      "metadata": {
        "colab": {
          "base_uri": "https://localhost:8080/"
        },
        "id": "UXA_onX5xe_M",
        "outputId": "73101830-dfdb-43d1-d229-f9f57c2eb830"
      },
      "execution_count": 63,
      "outputs": [
        {
          "output_type": "execute_result",
          "data": {
            "text/plain": [
              "18"
            ]
          },
          "metadata": {},
          "execution_count": 63
        }
      ]
    },
    {
      "cell_type": "code",
      "source": [
        "tokenizer.word_counts"
      ],
      "metadata": {
        "colab": {
          "base_uri": "https://localhost:8080/"
        },
        "id": "IWqxBeK1mWDr",
        "outputId": "4564aa7a-c5f4-40ad-8025-2f2ef1c06f9c"
      },
      "execution_count": 43,
      "outputs": [
        {
          "output_type": "execute_result",
          "data": {
            "text/plain": [
              "OrderedDict([('go', 1),\n",
              "             ('india', 4),\n",
              "             ('hip', 2),\n",
              "             ('hurray', 1),\n",
              "             ('jeetega', 3),\n",
              "             ('bhai', 1),\n",
              "             ('bharat', 1),\n",
              "             ('mata', 1),\n",
              "             ('ki', 2),\n",
              "             ('jai', 2),\n",
              "             ('kohli', 2),\n",
              "             ('sachin', 2),\n",
              "             ('dhoni', 2),\n",
              "             ('modi', 1),\n",
              "             ('ji', 1),\n",
              "             ('inquilab', 1),\n",
              "             ('zindabad', 1)])"
            ]
          },
          "metadata": {},
          "execution_count": 43
        }
      ]
    },
    {
      "cell_type": "code",
      "source": [
        "sequences = tokenizer.texts_to_sequences(docs)\n",
        "sequences # gives text in form of token"
      ],
      "metadata": {
        "colab": {
          "base_uri": "https://localhost:8080/"
        },
        "id": "jmxyyWOnmY8J",
        "outputId": "691b4e40-d258-4a37-dc43-321229706ea6"
      },
      "execution_count": 45,
      "outputs": [
        {
          "output_type": "execute_result",
          "data": {
            "text/plain": [
              "[[10, 2],\n",
              " [2, 2],\n",
              " [4, 4, 11],\n",
              " [3, 12, 3, 2, 3],\n",
              " [13, 14, 5, 6],\n",
              " [7, 7],\n",
              " [8, 8],\n",
              " [9, 9],\n",
              " [15, 16, 5, 6],\n",
              " [17, 18]]"
            ]
          },
          "metadata": {},
          "execution_count": 45
        }
      ]
    },
    {
      "cell_type": "code",
      "source": [
        "from keras.utils import pad_sequences"
      ],
      "metadata": {
        "id": "FCZFGAwfmhbE"
      },
      "execution_count": 46,
      "outputs": []
    },
    {
      "cell_type": "code",
      "source": [
        "sequences = pad_sequences(sequences,padding='post') # making length of all sequences equal\n",
        "sequences"
      ],
      "metadata": {
        "colab": {
          "base_uri": "https://localhost:8080/"
        },
        "id": "qIIWws5Hmsrp",
        "outputId": "792d5b08-5ec9-490c-db06-aee5fec6923a"
      },
      "execution_count": 49,
      "outputs": [
        {
          "output_type": "execute_result",
          "data": {
            "text/plain": [
              "array([[10,  2,  0,  0,  0],\n",
              "       [ 2,  2,  0,  0,  0],\n",
              "       [ 4,  4, 11,  0,  0],\n",
              "       [ 3, 12,  3,  2,  3],\n",
              "       [13, 14,  5,  6,  0],\n",
              "       [ 7,  7,  0,  0,  0],\n",
              "       [ 8,  8,  0,  0,  0],\n",
              "       [ 9,  9,  0,  0,  0],\n",
              "       [15, 16,  5,  6,  0],\n",
              "       [17, 18,  0,  0,  0]], dtype=int32)"
            ]
          },
          "metadata": {},
          "execution_count": 49
        }
      ]
    },
    {
      "cell_type": "code",
      "source": [
        "from keras.datasets import imdb\n",
        "from keras import Sequential\n",
        "from keras.layers import Dense,SimpleRNN,Flatten,Embedding"
      ],
      "metadata": {
        "id": "tZk4lYcpm1CD"
      },
      "execution_count": 64,
      "outputs": []
    },
    {
      "cell_type": "code",
      "source": [
        "model = Sequential()\n",
        "model.add(Embedding(18,output_dim=2,input_length=5))\n",
        "# (number of words in dictionary,output dimesion,number of words after padding)\n",
        "# output dimension represents that after applying embedding each sequence will be represented as 2 inputs size vector only\n",
        "model.summary()"
      ],
      "metadata": {
        "colab": {
          "base_uri": "https://localhost:8080/"
        },
        "id": "kFJMf2jQx1Iv",
        "outputId": "b3c0f2a8-bef7-46cd-c4c0-c65b5f8dfc04"
      },
      "execution_count": 66,
      "outputs": [
        {
          "output_type": "stream",
          "name": "stdout",
          "text": [
            "Model: \"sequential_2\"\n",
            "_________________________________________________________________\n",
            " Layer (type)                Output Shape              Param #   \n",
            "=================================================================\n",
            " embedding_1 (Embedding)     (None, 5, 2)              36        \n",
            "                                                                 \n",
            "=================================================================\n",
            "Total params: 36 (144.00 Byte)\n",
            "Trainable params: 36 (144.00 Byte)\n",
            "Non-trainable params: 0 (0.00 Byte)\n",
            "_________________________________________________________________\n"
          ]
        }
      ]
    },
    {
      "cell_type": "code",
      "source": [
        "model.compile('adam','accuracy')"
      ],
      "metadata": {
        "id": "8zxOGQ3uya8G"
      },
      "execution_count": 67,
      "outputs": []
    },
    {
      "cell_type": "code",
      "source": [
        "pred = model.predict(sequences)\n",
        "pred    # it is showing 2 input vector for each sequence"
      ],
      "metadata": {
        "colab": {
          "base_uri": "https://localhost:8080/"
        },
        "id": "aKjJYppjyfkp",
        "outputId": "52263e4e-55da-4d37-bd3e-cc7536947870"
      },
      "execution_count": 70,
      "outputs": [
        {
          "output_type": "stream",
          "name": "stdout",
          "text": [
            "1/1 [==============================] - 0s 30ms/step\n"
          ]
        },
        {
          "output_type": "execute_result",
          "data": {
            "text/plain": [
              "array([[[-0.00143734, -0.04338319],\n",
              "        [ 0.02644516,  0.0081949 ],\n",
              "        [-0.03034899, -0.00815536],\n",
              "        [-0.03034899, -0.00815536],\n",
              "        [-0.03034899, -0.00815536]],\n",
              "\n",
              "       [[ 0.02644516,  0.0081949 ],\n",
              "        [ 0.02644516,  0.0081949 ],\n",
              "        [-0.03034899, -0.00815536],\n",
              "        [-0.03034899, -0.00815536],\n",
              "        [-0.03034899, -0.00815536]],\n",
              "\n",
              "       [[-0.04671393,  0.01621817],\n",
              "        [-0.04671393,  0.01621817],\n",
              "        [-0.00668817, -0.00905315],\n",
              "        [-0.03034899, -0.00815536],\n",
              "        [-0.03034899, -0.00815536]],\n",
              "\n",
              "       [[ 0.0073873 ,  0.0153047 ],\n",
              "        [-0.00420469,  0.02574203],\n",
              "        [ 0.0073873 ,  0.0153047 ],\n",
              "        [ 0.02644516,  0.0081949 ],\n",
              "        [ 0.0073873 ,  0.0153047 ]],\n",
              "\n",
              "       [[-0.00574736, -0.02650108],\n",
              "        [-0.03598284, -0.03558278],\n",
              "        [-0.02235606, -0.03340254],\n",
              "        [-0.01232991, -0.03374965],\n",
              "        [-0.03034899, -0.00815536]],\n",
              "\n",
              "       [[-0.00459734,  0.04997275],\n",
              "        [-0.00459734,  0.04997275],\n",
              "        [-0.03034899, -0.00815536],\n",
              "        [-0.03034899, -0.00815536],\n",
              "        [-0.03034899, -0.00815536]],\n",
              "\n",
              "       [[ 0.00922019, -0.02678244],\n",
              "        [ 0.00922019, -0.02678244],\n",
              "        [-0.03034899, -0.00815536],\n",
              "        [-0.03034899, -0.00815536],\n",
              "        [-0.03034899, -0.00815536]],\n",
              "\n",
              "       [[-0.01936463, -0.01773693],\n",
              "        [-0.01936463, -0.01773693],\n",
              "        [-0.03034899, -0.00815536],\n",
              "        [-0.03034899, -0.00815536],\n",
              "        [-0.03034899, -0.00815536]],\n",
              "\n",
              "       [[-0.01888611, -0.04951585],\n",
              "        [-0.00885002,  0.03413851],\n",
              "        [-0.02235606, -0.03340254],\n",
              "        [-0.01232991, -0.03374965],\n",
              "        [-0.03034899, -0.00815536]],\n",
              "\n",
              "       [[-0.01425279,  0.04364368],\n",
              "        [ 0.        ,  0.        ],\n",
              "        [-0.03034899, -0.00815536],\n",
              "        [-0.03034899, -0.00815536],\n",
              "        [-0.03034899, -0.00815536]]], dtype=float32)"
            ]
          },
          "metadata": {},
          "execution_count": 70
        }
      ]
    },
    {
      "cell_type": "code",
      "source": [
        "(X_train,y_train),(X_test,y_test) = imdb.load_data()"
      ],
      "metadata": {
        "id": "3nPEMpHnntyN"
      },
      "execution_count": 71,
      "outputs": []
    },
    {
      "cell_type": "code",
      "source": [
        "X_train = pad_sequences(X_train,padding='post',maxlen=50)\n",
        "X_test = pad_sequences(X_test,padding='post',maxlen=50)\n",
        "# making length of all sequences same"
      ],
      "metadata": {
        "id": "7PBbG0zVn_lg"
      },
      "execution_count": 72,
      "outputs": []
    },
    {
      "cell_type": "code",
      "source": [
        "model = Sequential()\n",
        "model.add(Embedding(10000,2,input_length=50))\n",
        "model.add(SimpleRNN(32,return_sequences=False))\n",
        "model.add(Dense(1,activation='sigmoid'))\n",
        "\n",
        "model.summary()"
      ],
      "metadata": {
        "colab": {
          "base_uri": "https://localhost:8080/"
        },
        "id": "z329KbaIoPLu",
        "outputId": "93824775-4804-49c6-f90e-853742a9824e"
      },
      "execution_count": 74,
      "outputs": [
        {
          "output_type": "stream",
          "name": "stdout",
          "text": [
            "Model: \"sequential_4\"\n",
            "_________________________________________________________________\n",
            " Layer (type)                Output Shape              Param #   \n",
            "=================================================================\n",
            " embedding_3 (Embedding)     (None, 50, 2)             20000     \n",
            "                                                                 \n",
            " simple_rnn_1 (SimpleRNN)    (None, 32)                1120      \n",
            "                                                                 \n",
            " dense_5 (Dense)             (None, 1)                 33        \n",
            "                                                                 \n",
            "=================================================================\n",
            "Total params: 21153 (82.63 KB)\n",
            "Trainable params: 21153 (82.63 KB)\n",
            "Non-trainable params: 0 (0.00 Byte)\n",
            "_________________________________________________________________\n"
          ]
        }
      ]
    },
    {
      "cell_type": "code",
      "source": [
        "model.compile(loss='binary_crossentropy',optimizer='adam',metrics=['accuracy'])\n",
        "model.fit(X_train,y_train,epochs=5,validation_data=(X_test,y_test))"
      ],
      "metadata": {
        "colab": {
          "base_uri": "https://localhost:8080/"
        },
        "id": "8eHyxf05ol4u",
        "outputId": "4551fe2e-6a2e-4dad-ef50-ef9d8758856b"
      },
      "execution_count": 75,
      "outputs": [
        {
          "output_type": "stream",
          "name": "stdout",
          "text": [
            "Epoch 1/5\n",
            "782/782 [==============================] - 75s 94ms/step - loss: 0.6239 - accuracy: 0.6176 - val_loss: 0.4460 - val_accuracy: 0.7910\n",
            "Epoch 2/5\n",
            "782/782 [==============================] - 57s 72ms/step - loss: 0.3970 - accuracy: 0.8217 - val_loss: 0.4310 - val_accuracy: 0.8045\n",
            "Epoch 3/5\n",
            "782/782 [==============================] - 54s 68ms/step - loss: 0.3223 - accuracy: 0.8649 - val_loss: 0.4248 - val_accuracy: 0.8093\n",
            "Epoch 4/5\n",
            "782/782 [==============================] - 51s 65ms/step - loss: 0.2800 - accuracy: 0.8892 - val_loss: 0.4484 - val_accuracy: 0.8063\n",
            "Epoch 5/5\n",
            "782/782 [==============================] - 51s 65ms/step - loss: 0.2451 - accuracy: 0.9056 - val_loss: 0.4734 - val_accuracy: 0.8011\n"
          ]
        },
        {
          "output_type": "execute_result",
          "data": {
            "text/plain": [
              "<keras.src.callbacks.History at 0x7e4f7c147e50>"
            ]
          },
          "metadata": {},
          "execution_count": 75
        }
      ]
    },
    {
      "cell_type": "code",
      "source": [],
      "metadata": {
        "id": "Y83LBdfRo29b"
      },
      "execution_count": null,
      "outputs": []
    }
  ]
}